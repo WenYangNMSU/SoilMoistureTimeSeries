{
 "cells": [
  {
   "cell_type": "code",
   "execution_count": 1,
   "id": "bafc068c-1ae4-442b-9eaf-4db8512af0a4",
   "metadata": {},
   "outputs": [
    {
     "name": "stdout",
     "output_type": "stream",
     "text": [
      "NaN proportions:\n",
      " Site Id                     0.000000\n",
      "PREC.I-1 (in)               0.854160\n",
      "TOBS.I-1 (degC)             0.000612\n",
      "STO.I-1:-2 (degC)           0.007993\n",
      "STO.I-1:-4 (degC)           0.108889\n",
      "STO.I-1:-8 (degC)           0.003780\n",
      "STO.I-1:-20 (degC)          0.004372\n",
      "STO.I-1:-40 (degC)          0.148136\n",
      "STO.I-1:-80 (degC)          0.999796\n",
      "BATT.I-1 (volt)             0.000387\n",
      "STV.H-1:-4 (degC)           0.999918\n",
      "SRAD.I-1 (watt)             0.993936\n",
      "ETIL.I-1 (volt)             0.776799\n",
      "ETIB.I-1 (volt)             0.776811\n",
      "TMAX.H-1 (degC)             0.009738\n",
      "TMIN.H-1 (degC)             0.009906\n",
      "TAVG.H-1 (degC)             0.009865\n",
      "SMS.I-1:-2 (pct) (loam)     0.028979\n",
      "SMS.I-1:-4 (pct) (loam)     0.063263\n",
      "SMS.I-1:-8 (pct) (loam)     0.030904\n",
      "SMS.I-1:-20 (pct) (loam)    0.112363\n",
      "SMS.I-1:-40 (pct) (loam)    0.202664\n",
      "SAL.I-1:-2 (gram)           0.017034\n",
      "SAL.I-1:-4 (gram)           0.030916\n",
      "SAL.I-1:-8 (gram)           0.012821\n",
      "SAL.I-1:-20 (gram)          0.016161\n",
      "SAL.I-1:-40 (gram)          0.135404\n",
      "RDC.I-1:-2 (unit)           0.017038\n",
      "RDC.I-1:-4 (unit)           0.035659\n",
      "RDC.I-1:-8 (unit)           0.017560\n",
      "RDC.I-1:-20 (unit)          0.017784\n",
      "RDC.I-1:-40 (unit)          0.131860\n",
      "RHUM.I-1 (pct)              0.062978\n",
      "SRADV.H-1 (watt)            0.140905\n",
      "WDMVV.H-1 (mile)            0.785930\n",
      "RHUMN.H-1 (pct)             0.063161\n",
      "RHUMX.H-1 (pct)             0.062884\n",
      "PRCP.H-1 (in)               0.257583\n",
      "BATT.I-2 (volt)             0.967653\n",
      "WDIRV.H-1 (degr)            0.304632\n",
      "WSPDX.H-1 (mph)             0.251442\n",
      "WSPDV.H-1 (mph)             0.251442\n",
      "PRES.I-1 (inch)             0.551604\n",
      "DPTP.H-1 (degC)             0.454370\n",
      "PVPV.H-1 (kPa)              0.462755\n",
      "SVPV.H-1 (kPa)              0.454346\n",
      "dtype: float64\n",
      "Kept columns: Index(['Site Id', 'TOBS.I-1 (degC)', 'STO.I-1:-2 (degC)', 'STO.I-1:-4 (degC)',\n",
      "       'STO.I-1:-8 (degC)', 'STO.I-1:-20 (degC)', 'STO.I-1:-40 (degC)',\n",
      "       'BATT.I-1 (volt)', 'TMAX.H-1 (degC)', 'TMIN.H-1 (degC)',\n",
      "       'TAVG.H-1 (degC)', 'SMS.I-1:-2 (pct) (loam)', 'SMS.I-1:-4 (pct) (loam)',\n",
      "       'SMS.I-1:-8 (pct) (loam)', 'SMS.I-1:-20 (pct) (loam)',\n",
      "       'SMS.I-1:-40 (pct) (loam)', 'SAL.I-1:-2 (gram)', 'SAL.I-1:-4 (gram)',\n",
      "       'SAL.I-1:-8 (gram)', 'SAL.I-1:-20 (gram)', 'SAL.I-1:-40 (gram)',\n",
      "       'RDC.I-1:-2 (unit)', 'RDC.I-1:-4 (unit)', 'RDC.I-1:-8 (unit)',\n",
      "       'RDC.I-1:-20 (unit)', 'RDC.I-1:-40 (unit)', 'RHUM.I-1 (pct)',\n",
      "       'SRADV.H-1 (watt)', 'RHUMN.H-1 (pct)', 'RHUMX.H-1 (pct)',\n",
      "       'PRCP.H-1 (in)', 'WSPDX.H-1 (mph)', 'WSPDV.H-1 (mph)'],\n",
      "      dtype='object')\n",
      "First non-NaN SMS.I-1:-8: 1997-03-16 10:00:00\n",
      "First 5 rows:\n",
      "                      Site Id  TOBS.I-1 (degC)  STO.I-1:-2 (degC)  \\\n",
      "datetime                                                           \n",
      "1997-03-16 10:00:00   2015.0             18.2               13.9   \n",
      "1997-03-16 11:00:00   2015.0             19.2               17.6   \n",
      "1997-03-16 12:00:00   2015.0             20.1               19.9   \n",
      "1997-03-16 13:00:00   2015.0             20.0               21.4   \n",
      "1997-03-16 14:00:00   2015.0             20.2               22.0   \n",
      "\n",
      "                     STO.I-1:-4 (degC)  STO.I-1:-8 (degC)  STO.I-1:-20 (degC)  \\\n",
      "datetime                                                                        \n",
      "1997-03-16 10:00:00               12.3                9.7                 9.9   \n",
      "1997-03-16 11:00:00               14.9               10.2                10.0   \n",
      "1997-03-16 12:00:00               16.9               10.7                 9.8   \n",
      "1997-03-16 13:00:00               18.6               11.5                 9.7   \n",
      "1997-03-16 14:00:00               19.5               12.3                 9.7   \n",
      "\n",
      "                     STO.I-1:-40 (degC)  BATT.I-1 (volt)  TMAX.H-1 (degC)  \\\n",
      "datetime                                                                    \n",
      "1997-03-16 10:00:00               263.1            13.43             20.5   \n",
      "1997-03-16 11:00:00                 8.7            13.81             20.5   \n",
      "1997-03-16 12:00:00                 8.5            13.79             20.5   \n",
      "1997-03-16 13:00:00                 8.5            13.63             20.5   \n",
      "1997-03-16 14:00:00                 8.5            13.56             20.5   \n",
      "\n",
      "                     TMIN.H-1 (degC)  ...  RDC.I-1:-8 (unit)  \\\n",
      "datetime                              ...                      \n",
      "1997-03-16 10:00:00              7.0  ...               10.7   \n",
      "1997-03-16 11:00:00              7.0  ...               10.7   \n",
      "1997-03-16 12:00:00              7.0  ...               10.7   \n",
      "1997-03-16 13:00:00              7.0  ...               10.9   \n",
      "1997-03-16 14:00:00              7.0  ...               11.0   \n",
      "\n",
      "                     RDC.I-1:-20 (unit)  RDC.I-1:-40 (unit)  RHUM.I-1 (pct)  \\\n",
      "datetime                                                                      \n",
      "1997-03-16 10:00:00                13.8                 0.0            18.0   \n",
      "1997-03-16 11:00:00                13.8                 3.4            17.0   \n",
      "1997-03-16 12:00:00                13.9                 3.4            13.0   \n",
      "1997-03-16 13:00:00                13.8                 3.4            12.0   \n",
      "1997-03-16 14:00:00                13.9                 3.4            12.0   \n",
      "\n",
      "                     SRADV.H-1 (watt)  RHUMN.H-1 (pct)  RHUMX.H-1 (pct)  \\\n",
      "datetime                                                                  \n",
      "1997-03-16 10:00:00              4.32             18.0             21.0   \n",
      "1997-03-16 11:00:00              4.32             15.0             19.0   \n",
      "1997-03-16 12:00:00              4.32             13.0             16.0   \n",
      "1997-03-16 13:00:00              4.32             12.0             14.0   \n",
      "1997-03-16 14:00:00              4.32             11.0             14.0   \n",
      "\n",
      "                     WSPDX.H-1 (mph)  WSPDV.H-1 (mph)  Precip (in)  \n",
      "datetime                                                            \n",
      "1997-03-16 10:00:00             14.4              5.3          0.0  \n",
      "1997-03-16 11:00:00             14.4              5.3          0.0  \n",
      "1997-03-16 12:00:00             14.4              5.3          0.0  \n",
      "1997-03-16 13:00:00             14.4              5.3          0.0  \n",
      "1997-03-16 14:00:00             14.4              5.3          0.0  \n",
      "\n",
      "[5 rows x 33 columns]\n",
      "Columns: Index(['Site Id', 'TOBS.I-1 (degC)', 'STO.I-1:-2 (degC)', 'STO.I-1:-4 (degC)',\n",
      "       'STO.I-1:-8 (degC)', 'STO.I-1:-20 (degC)', 'STO.I-1:-40 (degC)',\n",
      "       'BATT.I-1 (volt)', 'TMAX.H-1 (degC)', 'TMIN.H-1 (degC)',\n",
      "       'TAVG.H-1 (degC)', 'SMS.I-1:-2 (pct) (loam)', 'SMS.I-1:-4 (pct) (loam)',\n",
      "       'SMS.I-1:-8 (pct) (loam)', 'SMS.I-1:-20 (pct) (loam)',\n",
      "       'SMS.I-1:-40 (pct) (loam)', 'SAL.I-1:-2 (gram)', 'SAL.I-1:-4 (gram)',\n",
      "       'SAL.I-1:-8 (gram)', 'SAL.I-1:-20 (gram)', 'SAL.I-1:-40 (gram)',\n",
      "       'RDC.I-1:-2 (unit)', 'RDC.I-1:-4 (unit)', 'RDC.I-1:-8 (unit)',\n",
      "       'RDC.I-1:-20 (unit)', 'RDC.I-1:-40 (unit)', 'RHUM.I-1 (pct)',\n",
      "       'SRADV.H-1 (watt)', 'RHUMN.H-1 (pct)', 'RHUMX.H-1 (pct)',\n",
      "       'WSPDX.H-1 (mph)', 'WSPDV.H-1 (mph)', 'Precip (in)'],\n",
      "      dtype='object')\n"
     ]
    }
   ],
   "source": [
    "import pandas as pd\n",
    "import numpy as np\n",
    "from glob import glob\n",
    "\n",
    "# Load CSVs\n",
    "files = glob('scan_data/*.csv')\n",
    "df_list = []\n",
    "for file in files:\n",
    "    df = pd.read_csv(file, skiprows=5, na_values=['', 'NaN', -99.9])\n",
    "    df = df.loc[:, ~df.columns.str.contains('^Unnamed', na=False)]\n",
    "    df.columns = [' '.join(col.split()) for col in df.columns.str.strip()]\n",
    "    df['datetime'] = pd.to_datetime(df['Date'] + ' ' + df['Time'], format='%Y-%m-%d %H:%M', errors='coerce')\n",
    "    df = df.dropna(subset=['datetime'])\n",
    "    df = df.set_index('datetime').drop(['Date', 'Time'], axis=1, errors='ignore')\n",
    "    df_list.append(df)\n",
    "\n",
    "# Concatenate and sort\n",
    "df = pd.concat(df_list).sort_index()\n",
    "\n",
    "# Normalize column names\n",
    "df.columns = [' '.join(col.split()) for col in df.columns.str.strip()]\n",
    "\n",
    "# Replace -99.9 with NaN\n",
    "df = df.replace(-99.9, np.nan)\n",
    "\n",
    "# Check NaN proportions\n",
    "nan_proportions = df.isna().mean()\n",
    "print(\"NaN proportions:\\n\", nan_proportions)\n",
    "\n",
    "# Drop columns with >30% NaNs\n",
    "valid_cols = nan_proportions[nan_proportions < 0.3].index\n",
    "df = df[valid_cols]\n",
    "print(\"Kept columns:\", valid_cols)\n",
    "\n",
    "# Use PRCP.H-1 (in) as primary precipitation\n",
    "if 'PRCP.H-1 (in)' in df.columns:\n",
    "    df['Precip (in)'] = df['PRCP.H-1 (in)'].fillna(0)\n",
    "    df = df.drop('PRCP.H-1 (in)', axis=1, errors='ignore')\n",
    "elif 'PREC.I-1 (in)' in df.columns:\n",
    "    df['Precip (in)'] = df['PREC.I-1 (in)'].fillna(0)\n",
    "    df = df.drop('PREC.I-1 (in)', axis=1, errors='ignore')\n",
    "else:\n",
    "    print(\"Warning: No precipitation column found. Adding zero-filled column.\")\n",
    "    df['Precip (in)'] = 0\n",
    "\n",
    "# Subset to start at 1997-03-16\n",
    "target_col = 'SMS.I-1:-4 (pct) (loam)'\n",
    "if target_col not in df.columns:\n",
    "    possible_targets = [col for col in df.columns if 'SMS.I-1:-8' in col]\n",
    "    if possible_targets:\n",
    "        target_col = possible_targets[0]\n",
    "        print(f\"Adjusted target_col to: {target_col}\")\n",
    "    else:\n",
    "        raise KeyError(\"No SMS.I-1:-8 column found in DataFrame.\")\n",
    "\n",
    "first_valid = df[target_col].first_valid_index()\n",
    "print(\"First non-NaN SMS.I-1:-8:\", first_valid)\n",
    "df = df.loc[first_valid:]  # ~245k rows\n",
    "\n",
    "# Interpolate remaining NaNs\n",
    "df = df.interpolate(method='time', limit_direction='both')\n",
    "\n",
    "# Ensure hourly continuity\n",
    "df = df.resample('h').interpolate(method='time')\n",
    "\n",
    "# Save\n",
    "df.to_csv('processed_hourly_scan_1997_2025.csv')\n",
    "print(\"First 5 rows:\\n\", df.head())\n",
    "print(\"Columns:\", df.columns)"
   ]
  },
  {
   "cell_type": "code",
   "execution_count": 2,
   "id": "a97f923f-6934-4fe2-8ec9-ae2fdb6b096d",
   "metadata": {},
   "outputs": [],
   "source": [
    "import warnings\n",
    "warnings.filterwarnings('ignore')\n",
    "\n",
    "# User-defined split date (change this to your desired date)\n",
    "split_date = pd.Timestamp('2020-01-01')  # Train up to this date, test after\n",
    "\n",
    "# Define horizons for hourly predictions (1 to 168 hours)\n",
    "horizons = list(range(1, 169))  # 168 horizons\n",
    "\n",
    "# Add cyclic date features\n",
    "df['month_sin'] = np.sin(2 * np.pi * df.index.month / 12)\n",
    "df['month_cos'] = np.cos(2 * np.pi * df.index.month / 12)\n",
    "df['dayofyear_sin'] = np.sin(2 * np.pi * df.index.dayofyear / 365.25)\n",
    "df['dayofyear_cos'] = np.cos(2 * np.pi * df.index.dayofyear / 365.25)\n",
    "df['hour_sin'] = np.sin(2 * np.pi * df.index.hour / 24)\n",
    "df['hour_cos'] = np.cos(2 * np.pi * df.index.hour / 24)\n",
    "\n",
    "# Target and features, including target_col for lagging\n",
    "key_features = [\n",
    "    'Precip (in)',\n",
    "    'TOBS.I-1 (degC)',\n",
    "    'TAVG.H-1 (degC)',\n",
    "    'RHUM.I-1 (pct)',\n",
    "    'SMS.I-1:-2 (pct) (loam)',\n",
    "    'SMS.I-1:-4 (pct) (loam)',  # target_col\n",
    "    'month_sin',\n",
    "    'month_cos',\n",
    "    'dayofyear_sin',\n",
    "    'dayofyear_cos',\n",
    "    'hour_sin',\n",
    "    'hour_cos',\n",
    "]\n",
    "feature_cols = [col for col in df.columns if col in key_features]  # Include all key features\n",
    "\n",
    "# Lagged features (168 hours for 7 days)\n",
    "lags = 168\n",
    "lagged_cols = []\n",
    "for col in feature_cols:\n",
    "    for lag in range(1, lags + 1):\n",
    "        df[f'{col}_lag{lag}'] = df[col].shift(lag)\n",
    "        lagged_cols.append(f'{col}_lag{lag}')\n",
    "\n",
    "# Add lagged hour features for diurnal effect\n",
    "for lag in range(1, 24):  # Lag up to 23 hours\n",
    "    df[f'hour_sin_lag{lag}'] = df['hour_sin'].shift(lag)\n",
    "    df[f'hour_cos_lag{lag}'] = df['hour_cos'].shift(lag)\n",
    "    lagged_cols.extend([f'hour_sin_lag{lag}', f'hour_cos_lag{lag}'])\n",
    "\n",
    "# Defragment DataFrame\n",
    "df = df.copy()\n",
    "\n",
    "# Rolling and cyclic features\n",
    "df['Precip_24h_sum'] = df['Precip (in)'].rolling(24).sum()\n",
    "df['TOBS_6h_mean'] = df['TOBS.I-1 (degC)'].rolling(6).mean()\n",
    "\n",
    "# Drop NaNs from lagging\n",
    "df = df.dropna()\n",
    "\n",
    "# Select top 50 features, ensuring hour features are considered\n",
    "X_cols = lagged_cols + ['Precip_24h_sum', 'TOBS_6h_mean', 'hour_sin', 'hour_cos']\n",
    "if len(X_cols) > 50:\n",
    "    corr = df[X_cols].corrwith(df[target_col]).abs()\n",
    "    X_cols = corr.nlargest(50).index.tolist()\n",
    "    X_cols = list(set(X_cols + ['hour_sin', 'hour_cos']))  # Force inclusion if not in top 50\n",
    "    if len(X_cols) > 50:\n",
    "        X_cols = X_cols[:50]  # Trim if exceeds 50\n",
    "\n",
    "# Split into train and test based on user-defined date\n",
    "train_df = df[df.index < split_date]\n",
    "test_df = df[df.index >= split_date]\n",
    "\n",
    "# Prepare X/y for train\n",
    "X_train_list, y_train_list = [], []\n",
    "for h in horizons:\n",
    "    X = train_df[X_cols]\n",
    "    y = train_df[target_col].shift(-h)\n",
    "    valid_idx = y.notna()\n",
    "    X_train_list.append(X[valid_idx])\n",
    "    y_train_list.append(y[valid_idx])\n",
    "\n",
    "# Prepare X/y for test (for accuracy comparison)\n",
    "X_test_list, y_test_list = [], []\n",
    "for h in horizons:\n",
    "    X = test_df[X_cols]\n",
    "    y = test_df[target_col].shift(-h)\n",
    "    valid_idx = y.notna()\n",
    "    X_test_list.append(X[valid_idx])\n",
    "    y_test_list.append(y[valid_idx])"
   ]
  },
  {
   "cell_type": "code",
   "execution_count": 3,
   "id": "8247a17e-13c6-46bc-a78f-a8815d0eb5de",
   "metadata": {},
   "outputs": [
    {
     "name": "stderr",
     "output_type": "stream",
     "text": [
      "Training models:   1%|▍                                                                | 1/168 [00:01<02:53,  1.04s/it]"
     ]
    },
    {
     "name": "stdout",
     "output_type": "stream",
     "text": [
      "Horizon +1h - Test MAE: 0.76%, RMSE: 1.80%\n"
     ]
    },
    {
     "name": "stderr",
     "output_type": "stream",
     "text": [
      "Training models:   1%|▊                                                                | 2/168 [00:01<02:32,  1.09it/s]"
     ]
    },
    {
     "name": "stdout",
     "output_type": "stream",
     "text": [
      "Horizon +2h - Test MAE: 0.81%, RMSE: 1.86%\n"
     ]
    },
    {
     "name": "stderr",
     "output_type": "stream",
     "text": [
      "Training models:   2%|█▏                                                               | 3/168 [00:02<02:26,  1.13it/s]"
     ]
    },
    {
     "name": "stdout",
     "output_type": "stream",
     "text": [
      "Horizon +3h - Test MAE: 0.85%, RMSE: 1.92%\n"
     ]
    },
    {
     "name": "stderr",
     "output_type": "stream",
     "text": [
      "Training models:   2%|█▌                                                               | 4/168 [00:03<02:25,  1.13it/s]"
     ]
    },
    {
     "name": "stdout",
     "output_type": "stream",
     "text": [
      "Horizon +4h - Test MAE: 0.91%, RMSE: 1.99%\n"
     ]
    },
    {
     "name": "stderr",
     "output_type": "stream",
     "text": [
      "Training models:   3%|█▉                                                               | 5/168 [00:04<02:22,  1.14it/s]"
     ]
    },
    {
     "name": "stdout",
     "output_type": "stream",
     "text": [
      "Horizon +5h - Test MAE: 0.93%, RMSE: 2.02%\n"
     ]
    },
    {
     "name": "stderr",
     "output_type": "stream",
     "text": [
      "Training models:   4%|██▎                                                              | 6/168 [00:05<02:22,  1.14it/s]"
     ]
    },
    {
     "name": "stdout",
     "output_type": "stream",
     "text": [
      "Horizon +6h - Test MAE: 0.97%, RMSE: 2.09%\n"
     ]
    },
    {
     "name": "stderr",
     "output_type": "stream",
     "text": [
      "Training models:   4%|██▋                                                              | 7/168 [00:06<02:25,  1.11it/s]"
     ]
    },
    {
     "name": "stdout",
     "output_type": "stream",
     "text": [
      "Horizon +7h - Test MAE: 1.00%, RMSE: 2.11%\n"
     ]
    },
    {
     "name": "stderr",
     "output_type": "stream",
     "text": [
      "Training models:   5%|███                                                              | 8/168 [00:07<02:26,  1.09it/s]"
     ]
    },
    {
     "name": "stdout",
     "output_type": "stream",
     "text": [
      "Horizon +8h - Test MAE: 1.03%, RMSE: 2.15%\n"
     ]
    },
    {
     "name": "stderr",
     "output_type": "stream",
     "text": [
      "Training models:   5%|███▍                                                             | 9/168 [00:08<02:24,  1.10it/s]"
     ]
    },
    {
     "name": "stdout",
     "output_type": "stream",
     "text": [
      "Horizon +9h - Test MAE: 1.06%, RMSE: 2.17%\n"
     ]
    },
    {
     "name": "stderr",
     "output_type": "stream",
     "text": [
      "Training models:   6%|███▊                                                            | 10/168 [00:09<02:22,  1.11it/s]"
     ]
    },
    {
     "name": "stdout",
     "output_type": "stream",
     "text": [
      "Horizon +10h - Test MAE: 1.07%, RMSE: 2.18%\n"
     ]
    },
    {
     "name": "stderr",
     "output_type": "stream",
     "text": [
      "Training models:   7%|████▏                                                           | 11/168 [00:09<02:15,  1.16it/s]"
     ]
    },
    {
     "name": "stdout",
     "output_type": "stream",
     "text": [
      "Horizon +11h - Test MAE: 1.11%, RMSE: 2.26%\n"
     ]
    },
    {
     "name": "stderr",
     "output_type": "stream",
     "text": [
      "Training models:   7%|████▌                                                           | 12/168 [00:10<02:10,  1.19it/s]"
     ]
    },
    {
     "name": "stdout",
     "output_type": "stream",
     "text": [
      "Horizon +12h - Test MAE: 1.12%, RMSE: 2.27%\n"
     ]
    },
    {
     "name": "stderr",
     "output_type": "stream",
     "text": [
      "Training models:   8%|████▉                                                           | 13/168 [00:11<02:06,  1.23it/s]"
     ]
    },
    {
     "name": "stdout",
     "output_type": "stream",
     "text": [
      "Horizon +13h - Test MAE: 1.14%, RMSE: 2.30%\n"
     ]
    },
    {
     "name": "stderr",
     "output_type": "stream",
     "text": [
      "Training models:   8%|█████▎                                                          | 14/168 [00:12<02:02,  1.26it/s]"
     ]
    },
    {
     "name": "stdout",
     "output_type": "stream",
     "text": [
      "Horizon +14h - Test MAE: 1.17%, RMSE: 2.34%\n"
     ]
    },
    {
     "name": "stderr",
     "output_type": "stream",
     "text": [
      "Training models:   9%|█████▋                                                          | 15/168 [00:12<01:59,  1.28it/s]"
     ]
    },
    {
     "name": "stdout",
     "output_type": "stream",
     "text": [
      "Horizon +15h - Test MAE: 1.24%, RMSE: 2.41%\n"
     ]
    },
    {
     "name": "stderr",
     "output_type": "stream",
     "text": [
      "Training models:  10%|██████                                                          | 16/168 [00:13<01:57,  1.30it/s]"
     ]
    },
    {
     "name": "stdout",
     "output_type": "stream",
     "text": [
      "Horizon +16h - Test MAE: 1.22%, RMSE: 2.36%\n"
     ]
    },
    {
     "name": "stderr",
     "output_type": "stream",
     "text": [
      "Training models:  10%|██████▍                                                         | 17/168 [00:14<01:56,  1.30it/s]"
     ]
    },
    {
     "name": "stdout",
     "output_type": "stream",
     "text": [
      "Horizon +17h - Test MAE: 1.23%, RMSE: 2.38%\n"
     ]
    },
    {
     "name": "stderr",
     "output_type": "stream",
     "text": [
      "Training models:  11%|██████▊                                                         | 18/168 [00:15<01:55,  1.30it/s]"
     ]
    },
    {
     "name": "stdout",
     "output_type": "stream",
     "text": [
      "Horizon +18h - Test MAE: 1.24%, RMSE: 2.42%\n"
     ]
    },
    {
     "name": "stderr",
     "output_type": "stream",
     "text": [
      "Training models:  11%|███████▏                                                        | 19/168 [00:15<01:53,  1.32it/s]"
     ]
    },
    {
     "name": "stdout",
     "output_type": "stream",
     "text": [
      "Horizon +19h - Test MAE: 1.26%, RMSE: 2.45%\n"
     ]
    },
    {
     "name": "stderr",
     "output_type": "stream",
     "text": [
      "Training models:  12%|███████▌                                                        | 20/168 [00:16<01:51,  1.33it/s]"
     ]
    },
    {
     "name": "stdout",
     "output_type": "stream",
     "text": [
      "Horizon +20h - Test MAE: 1.30%, RMSE: 2.51%\n"
     ]
    },
    {
     "name": "stderr",
     "output_type": "stream",
     "text": [
      "Training models:  12%|████████                                                        | 21/168 [00:17<01:51,  1.32it/s]"
     ]
    },
    {
     "name": "stdout",
     "output_type": "stream",
     "text": [
      "Horizon +21h - Test MAE: 1.31%, RMSE: 2.52%\n"
     ]
    },
    {
     "name": "stderr",
     "output_type": "stream",
     "text": [
      "Training models:  13%|████████▍                                                       | 22/168 [00:18<01:51,  1.31it/s]"
     ]
    },
    {
     "name": "stdout",
     "output_type": "stream",
     "text": [
      "Horizon +22h - Test MAE: 1.34%, RMSE: 2.53%\n"
     ]
    },
    {
     "name": "stderr",
     "output_type": "stream",
     "text": [
      "Training models:  14%|████████▊                                                       | 23/168 [00:18<01:52,  1.29it/s]"
     ]
    },
    {
     "name": "stdout",
     "output_type": "stream",
     "text": [
      "Horizon +23h - Test MAE: 1.37%, RMSE: 2.58%\n"
     ]
    },
    {
     "name": "stderr",
     "output_type": "stream",
     "text": [
      "Training models:  14%|█████████▏                                                      | 24/168 [00:19<01:53,  1.27it/s]"
     ]
    },
    {
     "name": "stdout",
     "output_type": "stream",
     "text": [
      "Horizon +24h - Test MAE: 1.40%, RMSE: 2.60%\n"
     ]
    },
    {
     "name": "stderr",
     "output_type": "stream",
     "text": [
      "Training models:  15%|█████████▌                                                      | 25/168 [00:20<01:52,  1.27it/s]"
     ]
    },
    {
     "name": "stdout",
     "output_type": "stream",
     "text": [
      "Horizon +25h - Test MAE: 1.42%, RMSE: 2.63%\n"
     ]
    },
    {
     "name": "stderr",
     "output_type": "stream",
     "text": [
      "Training models:  15%|█████████▉                                                      | 26/168 [00:21<01:50,  1.28it/s]"
     ]
    },
    {
     "name": "stdout",
     "output_type": "stream",
     "text": [
      "Horizon +26h - Test MAE: 1.47%, RMSE: 2.66%\n"
     ]
    },
    {
     "name": "stderr",
     "output_type": "stream",
     "text": [
      "Training models:  16%|██████████▎                                                     | 27/168 [00:22<01:50,  1.28it/s]"
     ]
    },
    {
     "name": "stdout",
     "output_type": "stream",
     "text": [
      "Horizon +27h - Test MAE: 1.47%, RMSE: 2.65%\n"
     ]
    },
    {
     "name": "stderr",
     "output_type": "stream",
     "text": [
      "Training models:  17%|██████████▋                                                     | 28/168 [00:22<01:53,  1.23it/s]"
     ]
    },
    {
     "name": "stdout",
     "output_type": "stream",
     "text": [
      "Horizon +28h - Test MAE: 1.49%, RMSE: 2.69%\n"
     ]
    },
    {
     "name": "stderr",
     "output_type": "stream",
     "text": [
      "Training models:  17%|███████████                                                     | 29/168 [00:23<01:52,  1.23it/s]"
     ]
    },
    {
     "name": "stdout",
     "output_type": "stream",
     "text": [
      "Horizon +29h - Test MAE: 1.53%, RMSE: 2.73%\n"
     ]
    },
    {
     "name": "stderr",
     "output_type": "stream",
     "text": [
      "Training models:  18%|███████████▍                                                    | 30/168 [00:24<01:52,  1.23it/s]"
     ]
    },
    {
     "name": "stdout",
     "output_type": "stream",
     "text": [
      "Horizon +30h - Test MAE: 1.59%, RMSE: 2.80%\n"
     ]
    },
    {
     "name": "stderr",
     "output_type": "stream",
     "text": [
      "Training models:  18%|███████████▊                                                    | 31/168 [00:25<01:51,  1.22it/s]"
     ]
    },
    {
     "name": "stdout",
     "output_type": "stream",
     "text": [
      "Horizon +31h - Test MAE: 1.58%, RMSE: 2.77%\n"
     ]
    },
    {
     "name": "stderr",
     "output_type": "stream",
     "text": [
      "Training models:  19%|████████████▏                                                   | 32/168 [00:26<01:50,  1.23it/s]"
     ]
    },
    {
     "name": "stdout",
     "output_type": "stream",
     "text": [
      "Horizon +32h - Test MAE: 1.59%, RMSE: 2.77%\n"
     ]
    },
    {
     "name": "stderr",
     "output_type": "stream",
     "text": [
      "Training models:  20%|████████████▌                                                   | 33/168 [00:27<01:51,  1.21it/s]"
     ]
    },
    {
     "name": "stdout",
     "output_type": "stream",
     "text": [
      "Horizon +33h - Test MAE: 1.62%, RMSE: 2.79%\n"
     ]
    },
    {
     "name": "stderr",
     "output_type": "stream",
     "text": [
      "Training models:  20%|████████████▉                                                   | 34/168 [00:27<01:50,  1.22it/s]"
     ]
    },
    {
     "name": "stdout",
     "output_type": "stream",
     "text": [
      "Horizon +34h - Test MAE: 1.63%, RMSE: 2.83%\n"
     ]
    },
    {
     "name": "stderr",
     "output_type": "stream",
     "text": [
      "Training models:  21%|█████████████▎                                                  | 35/168 [00:28<01:50,  1.21it/s]"
     ]
    },
    {
     "name": "stdout",
     "output_type": "stream",
     "text": [
      "Horizon +35h - Test MAE: 1.64%, RMSE: 2.84%\n"
     ]
    },
    {
     "name": "stderr",
     "output_type": "stream",
     "text": [
      "Training models:  21%|█████████████▋                                                  | 36/168 [00:29<01:46,  1.24it/s]"
     ]
    },
    {
     "name": "stdout",
     "output_type": "stream",
     "text": [
      "Horizon +36h - Test MAE: 1.68%, RMSE: 2.85%\n"
     ]
    },
    {
     "name": "stderr",
     "output_type": "stream",
     "text": [
      "Training models:  22%|██████████████                                                  | 37/168 [00:30<01:46,  1.23it/s]"
     ]
    },
    {
     "name": "stdout",
     "output_type": "stream",
     "text": [
      "Horizon +37h - Test MAE: 1.68%, RMSE: 2.83%\n"
     ]
    },
    {
     "name": "stderr",
     "output_type": "stream",
     "text": [
      "Training models:  23%|██████████████▍                                                 | 38/168 [00:31<01:45,  1.23it/s]"
     ]
    },
    {
     "name": "stdout",
     "output_type": "stream",
     "text": [
      "Horizon +38h - Test MAE: 1.70%, RMSE: 2.87%\n"
     ]
    },
    {
     "name": "stderr",
     "output_type": "stream",
     "text": [
      "Training models:  23%|██████████████▊                                                 | 39/168 [00:31<01:44,  1.24it/s]"
     ]
    },
    {
     "name": "stdout",
     "output_type": "stream",
     "text": [
      "Horizon +39h - Test MAE: 1.70%, RMSE: 2.88%\n"
     ]
    },
    {
     "name": "stderr",
     "output_type": "stream",
     "text": [
      "Training models:  24%|███████████████▏                                                | 40/168 [00:32<01:45,  1.21it/s]"
     ]
    },
    {
     "name": "stdout",
     "output_type": "stream",
     "text": [
      "Horizon +40h - Test MAE: 1.73%, RMSE: 2.91%\n"
     ]
    },
    {
     "name": "stderr",
     "output_type": "stream",
     "text": [
      "Training models:  24%|███████████████▌                                                | 41/168 [00:33<01:44,  1.21it/s]"
     ]
    },
    {
     "name": "stdout",
     "output_type": "stream",
     "text": [
      "Horizon +41h - Test MAE: 1.75%, RMSE: 2.92%\n"
     ]
    },
    {
     "name": "stderr",
     "output_type": "stream",
     "text": [
      "Training models:  25%|████████████████                                                | 42/168 [00:34<01:45,  1.20it/s]"
     ]
    },
    {
     "name": "stdout",
     "output_type": "stream",
     "text": [
      "Horizon +42h - Test MAE: 1.75%, RMSE: 2.93%\n"
     ]
    },
    {
     "name": "stderr",
     "output_type": "stream",
     "text": [
      "Training models:  26%|████████████████▍                                               | 43/168 [00:35<01:46,  1.17it/s]"
     ]
    },
    {
     "name": "stdout",
     "output_type": "stream",
     "text": [
      "Horizon +43h - Test MAE: 1.77%, RMSE: 2.95%\n"
     ]
    },
    {
     "name": "stderr",
     "output_type": "stream",
     "text": [
      "Training models:  26%|████████████████▊                                               | 44/168 [00:36<01:45,  1.18it/s]"
     ]
    },
    {
     "name": "stdout",
     "output_type": "stream",
     "text": [
      "Horizon +44h - Test MAE: 1.79%, RMSE: 2.97%\n"
     ]
    },
    {
     "name": "stderr",
     "output_type": "stream",
     "text": [
      "Training models:  27%|█████████████████▏                                              | 45/168 [00:37<01:42,  1.20it/s]"
     ]
    },
    {
     "name": "stdout",
     "output_type": "stream",
     "text": [
      "Horizon +45h - Test MAE: 1.77%, RMSE: 2.98%\n"
     ]
    },
    {
     "name": "stderr",
     "output_type": "stream",
     "text": [
      "Training models:  27%|█████████████████▌                                              | 46/168 [00:37<01:40,  1.22it/s]"
     ]
    },
    {
     "name": "stdout",
     "output_type": "stream",
     "text": [
      "Horizon +46h - Test MAE: 1.82%, RMSE: 3.02%\n"
     ]
    },
    {
     "name": "stderr",
     "output_type": "stream",
     "text": [
      "Training models:  28%|█████████████████▉                                              | 47/168 [00:38<01:40,  1.20it/s]"
     ]
    },
    {
     "name": "stdout",
     "output_type": "stream",
     "text": [
      "Horizon +47h - Test MAE: 1.81%, RMSE: 2.99%\n"
     ]
    },
    {
     "name": "stderr",
     "output_type": "stream",
     "text": [
      "Training models:  29%|██████████████████▎                                             | 48/168 [00:39<01:37,  1.23it/s]"
     ]
    },
    {
     "name": "stdout",
     "output_type": "stream",
     "text": [
      "Horizon +48h - Test MAE: 1.84%, RMSE: 3.03%\n"
     ]
    },
    {
     "name": "stderr",
     "output_type": "stream",
     "text": [
      "Training models:  29%|██████████████████▋                                             | 49/168 [00:40<01:34,  1.26it/s]"
     ]
    },
    {
     "name": "stdout",
     "output_type": "stream",
     "text": [
      "Horizon +49h - Test MAE: 1.90%, RMSE: 3.07%\n"
     ]
    },
    {
     "name": "stderr",
     "output_type": "stream",
     "text": [
      "Training models:  30%|███████████████████                                             | 50/168 [00:40<01:28,  1.33it/s]"
     ]
    },
    {
     "name": "stdout",
     "output_type": "stream",
     "text": [
      "Horizon +50h - Test MAE: 1.91%, RMSE: 3.09%\n"
     ]
    },
    {
     "name": "stderr",
     "output_type": "stream",
     "text": [
      "Training models:  30%|███████████████████▍                                            | 51/168 [00:41<01:25,  1.37it/s]"
     ]
    },
    {
     "name": "stdout",
     "output_type": "stream",
     "text": [
      "Horizon +51h - Test MAE: 1.90%, RMSE: 3.08%\n"
     ]
    },
    {
     "name": "stderr",
     "output_type": "stream",
     "text": [
      "Training models:  31%|███████████████████▊                                            | 52/168 [00:42<01:22,  1.40it/s]"
     ]
    },
    {
     "name": "stdout",
     "output_type": "stream",
     "text": [
      "Horizon +52h - Test MAE: 1.92%, RMSE: 3.10%\n"
     ]
    },
    {
     "name": "stderr",
     "output_type": "stream",
     "text": [
      "Training models:  32%|████████████████████▏                                           | 53/168 [00:42<01:22,  1.40it/s]"
     ]
    },
    {
     "name": "stdout",
     "output_type": "stream",
     "text": [
      "Horizon +53h - Test MAE: 1.96%, RMSE: 3.14%\n"
     ]
    },
    {
     "name": "stderr",
     "output_type": "stream",
     "text": [
      "Training models:  32%|████████████████████▌                                           | 54/168 [00:43<01:21,  1.40it/s]"
     ]
    },
    {
     "name": "stdout",
     "output_type": "stream",
     "text": [
      "Horizon +54h - Test MAE: 2.00%, RMSE: 3.19%\n"
     ]
    },
    {
     "name": "stderr",
     "output_type": "stream",
     "text": [
      "Training models:  33%|████████████████████▉                                           | 55/168 [00:44<01:19,  1.42it/s]"
     ]
    },
    {
     "name": "stdout",
     "output_type": "stream",
     "text": [
      "Horizon +55h - Test MAE: 2.03%, RMSE: 3.20%\n"
     ]
    },
    {
     "name": "stderr",
     "output_type": "stream",
     "text": [
      "Training models:  33%|█████████████████████▎                                          | 56/168 [00:45<01:18,  1.42it/s]"
     ]
    },
    {
     "name": "stdout",
     "output_type": "stream",
     "text": [
      "Horizon +56h - Test MAE: 2.04%, RMSE: 3.22%\n"
     ]
    },
    {
     "name": "stderr",
     "output_type": "stream",
     "text": [
      "Training models:  34%|█████████████████████▋                                          | 57/168 [00:45<01:17,  1.44it/s]"
     ]
    },
    {
     "name": "stdout",
     "output_type": "stream",
     "text": [
      "Horizon +57h - Test MAE: 2.02%, RMSE: 3.20%\n"
     ]
    },
    {
     "name": "stderr",
     "output_type": "stream",
     "text": [
      "Training models:  35%|██████████████████████                                          | 58/168 [00:46<01:18,  1.41it/s]"
     ]
    },
    {
     "name": "stdout",
     "output_type": "stream",
     "text": [
      "Horizon +58h - Test MAE: 2.04%, RMSE: 3.20%\n"
     ]
    },
    {
     "name": "stderr",
     "output_type": "stream",
     "text": [
      "Training models:  35%|██████████████████████▍                                         | 59/168 [00:47<01:18,  1.39it/s]"
     ]
    },
    {
     "name": "stdout",
     "output_type": "stream",
     "text": [
      "Horizon +59h - Test MAE: 2.01%, RMSE: 3.21%\n"
     ]
    },
    {
     "name": "stderr",
     "output_type": "stream",
     "text": [
      "Training models:  36%|██████████████████████▊                                         | 60/168 [00:47<01:16,  1.42it/s]"
     ]
    },
    {
     "name": "stdout",
     "output_type": "stream",
     "text": [
      "Horizon +60h - Test MAE: 2.06%, RMSE: 3.25%\n"
     ]
    },
    {
     "name": "stderr",
     "output_type": "stream",
     "text": [
      "Training models:  36%|███████████████████████▏                                        | 61/168 [00:48<01:15,  1.43it/s]"
     ]
    },
    {
     "name": "stdout",
     "output_type": "stream",
     "text": [
      "Horizon +61h - Test MAE: 2.08%, RMSE: 3.28%\n"
     ]
    },
    {
     "name": "stderr",
     "output_type": "stream",
     "text": [
      "Training models:  37%|███████████████████████▌                                        | 62/168 [00:49<01:13,  1.44it/s]"
     ]
    },
    {
     "name": "stdout",
     "output_type": "stream",
     "text": [
      "Horizon +62h - Test MAE: 2.12%, RMSE: 3.31%\n"
     ]
    },
    {
     "name": "stderr",
     "output_type": "stream",
     "text": [
      "Training models:  38%|████████████████████████                                        | 63/168 [00:50<01:17,  1.35it/s]"
     ]
    },
    {
     "name": "stdout",
     "output_type": "stream",
     "text": [
      "Horizon +63h - Test MAE: 2.12%, RMSE: 3.29%\n"
     ]
    },
    {
     "name": "stderr",
     "output_type": "stream",
     "text": [
      "Training models:  38%|████████████████████████▍                                       | 64/168 [00:51<01:23,  1.25it/s]"
     ]
    },
    {
     "name": "stdout",
     "output_type": "stream",
     "text": [
      "Horizon +64h - Test MAE: 2.13%, RMSE: 3.31%\n"
     ]
    },
    {
     "name": "stderr",
     "output_type": "stream",
     "text": [
      "Training models:  39%|████████████████████████▊                                       | 65/168 [00:51<01:25,  1.20it/s]"
     ]
    },
    {
     "name": "stdout",
     "output_type": "stream",
     "text": [
      "Horizon +65h - Test MAE: 2.11%, RMSE: 3.31%\n"
     ]
    },
    {
     "name": "stderr",
     "output_type": "stream",
     "text": [
      "Training models:  39%|█████████████████████████▏                                      | 66/168 [00:52<01:27,  1.17it/s]"
     ]
    },
    {
     "name": "stdout",
     "output_type": "stream",
     "text": [
      "Horizon +66h - Test MAE: 2.16%, RMSE: 3.35%\n"
     ]
    },
    {
     "name": "stderr",
     "output_type": "stream",
     "text": [
      "Training models:  40%|█████████████████████████▌                                      | 67/168 [00:53<01:25,  1.18it/s]"
     ]
    },
    {
     "name": "stdout",
     "output_type": "stream",
     "text": [
      "Horizon +67h - Test MAE: 2.16%, RMSE: 3.35%\n"
     ]
    },
    {
     "name": "stderr",
     "output_type": "stream",
     "text": [
      "Training models:  40%|█████████████████████████▉                                      | 68/168 [00:54<01:22,  1.21it/s]"
     ]
    },
    {
     "name": "stdout",
     "output_type": "stream",
     "text": [
      "Horizon +68h - Test MAE: 2.18%, RMSE: 3.38%\n"
     ]
    },
    {
     "name": "stderr",
     "output_type": "stream",
     "text": [
      "Training models:  41%|██████████████████████████▎                                     | 69/168 [00:55<01:23,  1.18it/s]"
     ]
    },
    {
     "name": "stdout",
     "output_type": "stream",
     "text": [
      "Horizon +69h - Test MAE: 2.17%, RMSE: 3.36%\n"
     ]
    },
    {
     "name": "stderr",
     "output_type": "stream",
     "text": [
      "Training models:  42%|██████████████████████████▋                                     | 70/168 [00:56<01:24,  1.17it/s]"
     ]
    },
    {
     "name": "stdout",
     "output_type": "stream",
     "text": [
      "Horizon +70h - Test MAE: 2.21%, RMSE: 3.39%\n"
     ]
    },
    {
     "name": "stderr",
     "output_type": "stream",
     "text": [
      "Training models:  42%|███████████████████████████                                     | 71/168 [00:57<01:24,  1.15it/s]"
     ]
    },
    {
     "name": "stdout",
     "output_type": "stream",
     "text": [
      "Horizon +71h - Test MAE: 2.21%, RMSE: 3.39%\n"
     ]
    },
    {
     "name": "stderr",
     "output_type": "stream",
     "text": [
      "Training models:  43%|███████████████████████████▍                                    | 72/168 [00:58<01:25,  1.12it/s]"
     ]
    },
    {
     "name": "stdout",
     "output_type": "stream",
     "text": [
      "Horizon +72h - Test MAE: 2.24%, RMSE: 3.42%\n"
     ]
    },
    {
     "name": "stderr",
     "output_type": "stream",
     "text": [
      "Training models:  43%|███████████████████████████▊                                    | 73/168 [00:58<01:22,  1.16it/s]"
     ]
    },
    {
     "name": "stdout",
     "output_type": "stream",
     "text": [
      "Horizon +73h - Test MAE: 2.24%, RMSE: 3.43%\n"
     ]
    },
    {
     "name": "stderr",
     "output_type": "stream",
     "text": [
      "Training models:  44%|████████████████████████████▏                                   | 74/168 [00:59<01:20,  1.17it/s]"
     ]
    },
    {
     "name": "stdout",
     "output_type": "stream",
     "text": [
      "Horizon +74h - Test MAE: 2.27%, RMSE: 3.48%\n"
     ]
    },
    {
     "name": "stderr",
     "output_type": "stream",
     "text": [
      "Training models:  45%|████████████████████████████▌                                   | 75/168 [01:00<01:17,  1.20it/s]"
     ]
    },
    {
     "name": "stdout",
     "output_type": "stream",
     "text": [
      "Horizon +75h - Test MAE: 2.29%, RMSE: 3.49%\n"
     ]
    },
    {
     "name": "stderr",
     "output_type": "stream",
     "text": [
      "Training models:  45%|████████████████████████████▉                                   | 76/168 [01:01<01:16,  1.21it/s]"
     ]
    },
    {
     "name": "stdout",
     "output_type": "stream",
     "text": [
      "Horizon +76h - Test MAE: 2.28%, RMSE: 3.49%\n"
     ]
    },
    {
     "name": "stderr",
     "output_type": "stream",
     "text": [
      "Training models:  46%|█████████████████████████████▎                                  | 77/168 [01:02<01:13,  1.24it/s]"
     ]
    },
    {
     "name": "stdout",
     "output_type": "stream",
     "text": [
      "Horizon +77h - Test MAE: 2.32%, RMSE: 3.52%\n"
     ]
    },
    {
     "name": "stderr",
     "output_type": "stream",
     "text": [
      "Training models:  46%|█████████████████████████████▋                                  | 78/168 [01:02<01:12,  1.24it/s]"
     ]
    },
    {
     "name": "stdout",
     "output_type": "stream",
     "text": [
      "Horizon +78h - Test MAE: 2.34%, RMSE: 3.55%\n"
     ]
    },
    {
     "name": "stderr",
     "output_type": "stream",
     "text": [
      "Training models:  47%|██████████████████████████████                                  | 79/168 [01:03<01:11,  1.24it/s]"
     ]
    },
    {
     "name": "stdout",
     "output_type": "stream",
     "text": [
      "Horizon +79h - Test MAE: 2.39%, RMSE: 3.61%\n"
     ]
    },
    {
     "name": "stderr",
     "output_type": "stream",
     "text": [
      "Training models:  48%|██████████████████████████████▍                                 | 80/168 [01:04<01:10,  1.24it/s]"
     ]
    },
    {
     "name": "stdout",
     "output_type": "stream",
     "text": [
      "Horizon +80h - Test MAE: 2.36%, RMSE: 3.59%\n"
     ]
    },
    {
     "name": "stderr",
     "output_type": "stream",
     "text": [
      "Training models:  48%|██████████████████████████████▊                                 | 81/168 [01:05<01:08,  1.27it/s]"
     ]
    },
    {
     "name": "stdout",
     "output_type": "stream",
     "text": [
      "Horizon +81h - Test MAE: 2.40%, RMSE: 3.62%\n"
     ]
    },
    {
     "name": "stderr",
     "output_type": "stream",
     "text": [
      "Training models:  49%|███████████████████████████████▏                                | 82/168 [01:05<01:05,  1.31it/s]"
     ]
    },
    {
     "name": "stdout",
     "output_type": "stream",
     "text": [
      "Horizon +82h - Test MAE: 2.41%, RMSE: 3.59%\n"
     ]
    },
    {
     "name": "stderr",
     "output_type": "stream",
     "text": [
      "Training models:  49%|███████████████████████████████▌                                | 83/168 [01:06<01:05,  1.30it/s]"
     ]
    },
    {
     "name": "stdout",
     "output_type": "stream",
     "text": [
      "Horizon +83h - Test MAE: 2.45%, RMSE: 3.64%\n"
     ]
    },
    {
     "name": "stderr",
     "output_type": "stream",
     "text": [
      "Training models:  50%|████████████████████████████████                                | 84/168 [01:07<01:01,  1.36it/s]"
     ]
    },
    {
     "name": "stdout",
     "output_type": "stream",
     "text": [
      "Horizon +84h - Test MAE: 2.44%, RMSE: 3.63%\n"
     ]
    },
    {
     "name": "stderr",
     "output_type": "stream",
     "text": [
      "Training models:  51%|████████████████████████████████▍                               | 85/168 [01:08<01:02,  1.34it/s]"
     ]
    },
    {
     "name": "stdout",
     "output_type": "stream",
     "text": [
      "Horizon +85h - Test MAE: 2.47%, RMSE: 3.66%\n"
     ]
    },
    {
     "name": "stderr",
     "output_type": "stream",
     "text": [
      "Training models:  51%|████████████████████████████████▊                               | 86/168 [01:08<00:59,  1.38it/s]"
     ]
    },
    {
     "name": "stdout",
     "output_type": "stream",
     "text": [
      "Horizon +86h - Test MAE: 2.47%, RMSE: 3.66%\n"
     ]
    },
    {
     "name": "stderr",
     "output_type": "stream",
     "text": [
      "Training models:  52%|█████████████████████████████████▏                              | 87/168 [01:09<00:56,  1.43it/s]"
     ]
    },
    {
     "name": "stdout",
     "output_type": "stream",
     "text": [
      "Horizon +87h - Test MAE: 2.48%, RMSE: 3.66%\n"
     ]
    },
    {
     "name": "stderr",
     "output_type": "stream",
     "text": [
      "Training models:  52%|█████████████████████████████████▌                              | 88/168 [01:10<00:55,  1.44it/s]"
     ]
    },
    {
     "name": "stdout",
     "output_type": "stream",
     "text": [
      "Horizon +88h - Test MAE: 2.51%, RMSE: 3.73%\n"
     ]
    },
    {
     "name": "stderr",
     "output_type": "stream",
     "text": [
      "Training models:  53%|█████████████████████████████████▉                              | 89/168 [01:10<00:55,  1.43it/s]"
     ]
    },
    {
     "name": "stdout",
     "output_type": "stream",
     "text": [
      "Horizon +89h - Test MAE: 2.47%, RMSE: 3.66%\n"
     ]
    },
    {
     "name": "stderr",
     "output_type": "stream",
     "text": [
      "Training models:  54%|██████████████████████████████████▎                             | 90/168 [01:11<00:55,  1.42it/s]"
     ]
    },
    {
     "name": "stdout",
     "output_type": "stream",
     "text": [
      "Horizon +90h - Test MAE: 2.50%, RMSE: 3.68%\n"
     ]
    },
    {
     "name": "stderr",
     "output_type": "stream",
     "text": [
      "Training models:  54%|██████████████████████████████████▋                             | 91/168 [01:12<00:54,  1.42it/s]"
     ]
    },
    {
     "name": "stdout",
     "output_type": "stream",
     "text": [
      "Horizon +91h - Test MAE: 2.51%, RMSE: 3.71%\n"
     ]
    },
    {
     "name": "stderr",
     "output_type": "stream",
     "text": [
      "Training models:  55%|███████████████████████████████████                             | 92/168 [01:12<00:52,  1.45it/s]"
     ]
    },
    {
     "name": "stdout",
     "output_type": "stream",
     "text": [
      "Horizon +92h - Test MAE: 2.52%, RMSE: 3.71%\n"
     ]
    },
    {
     "name": "stderr",
     "output_type": "stream",
     "text": [
      "Training models:  55%|███████████████████████████████████▍                            | 93/168 [01:13<00:53,  1.41it/s]"
     ]
    },
    {
     "name": "stdout",
     "output_type": "stream",
     "text": [
      "Horizon +93h - Test MAE: 2.56%, RMSE: 3.77%\n"
     ]
    },
    {
     "name": "stderr",
     "output_type": "stream",
     "text": [
      "Training models:  56%|███████████████████████████████████▊                            | 94/168 [01:14<00:52,  1.40it/s]"
     ]
    },
    {
     "name": "stdout",
     "output_type": "stream",
     "text": [
      "Horizon +94h - Test MAE: 2.54%, RMSE: 3.72%\n"
     ]
    },
    {
     "name": "stderr",
     "output_type": "stream",
     "text": [
      "Training models:  57%|████████████████████████████████████▏                           | 95/168 [01:15<00:56,  1.29it/s]"
     ]
    },
    {
     "name": "stdout",
     "output_type": "stream",
     "text": [
      "Horizon +95h - Test MAE: 2.55%, RMSE: 3.76%\n"
     ]
    },
    {
     "name": "stderr",
     "output_type": "stream",
     "text": [
      "Training models:  57%|████████████████████████████████████▌                           | 96/168 [01:16<00:55,  1.30it/s]"
     ]
    },
    {
     "name": "stdout",
     "output_type": "stream",
     "text": [
      "Horizon +96h - Test MAE: 2.58%, RMSE: 3.79%\n"
     ]
    },
    {
     "name": "stderr",
     "output_type": "stream",
     "text": [
      "Training models:  58%|████████████████████████████████████▉                           | 97/168 [01:16<00:53,  1.32it/s]"
     ]
    },
    {
     "name": "stdout",
     "output_type": "stream",
     "text": [
      "Horizon +97h - Test MAE: 2.58%, RMSE: 3.78%\n"
     ]
    },
    {
     "name": "stderr",
     "output_type": "stream",
     "text": [
      "Training models:  58%|█████████████████████████████████████▎                          | 98/168 [01:17<00:51,  1.35it/s]"
     ]
    },
    {
     "name": "stdout",
     "output_type": "stream",
     "text": [
      "Horizon +98h - Test MAE: 2.59%, RMSE: 3.79%\n"
     ]
    },
    {
     "name": "stderr",
     "output_type": "stream",
     "text": [
      "Training models:  59%|█████████████████████████████████████▋                          | 99/168 [01:18<00:51,  1.34it/s]"
     ]
    },
    {
     "name": "stdout",
     "output_type": "stream",
     "text": [
      "Horizon +99h - Test MAE: 2.61%, RMSE: 3.80%\n"
     ]
    },
    {
     "name": "stderr",
     "output_type": "stream",
     "text": [
      "Training models:  60%|█████████████████████████████████████▌                         | 100/168 [01:19<00:51,  1.33it/s]"
     ]
    },
    {
     "name": "stdout",
     "output_type": "stream",
     "text": [
      "Horizon +100h - Test MAE: 2.62%, RMSE: 3.80%\n"
     ]
    },
    {
     "name": "stderr",
     "output_type": "stream",
     "text": [
      "Training models:  60%|█████████████████████████████████████▉                         | 101/168 [01:19<00:51,  1.30it/s]"
     ]
    },
    {
     "name": "stdout",
     "output_type": "stream",
     "text": [
      "Horizon +101h - Test MAE: 2.66%, RMSE: 3.86%\n"
     ]
    },
    {
     "name": "stderr",
     "output_type": "stream",
     "text": [
      "Training models:  61%|██████████████████████████████████████▎                        | 102/168 [01:20<00:50,  1.32it/s]"
     ]
    },
    {
     "name": "stdout",
     "output_type": "stream",
     "text": [
      "Horizon +102h - Test MAE: 2.71%, RMSE: 3.91%\n"
     ]
    },
    {
     "name": "stderr",
     "output_type": "stream",
     "text": [
      "Training models:  61%|██████████████████████████████████████▋                        | 103/168 [01:21<00:49,  1.32it/s]"
     ]
    },
    {
     "name": "stdout",
     "output_type": "stream",
     "text": [
      "Horizon +103h - Test MAE: 2.66%, RMSE: 3.88%\n"
     ]
    },
    {
     "name": "stderr",
     "output_type": "stream",
     "text": [
      "Training models:  62%|███████████████████████████████████████                        | 104/168 [01:22<00:48,  1.33it/s]"
     ]
    },
    {
     "name": "stdout",
     "output_type": "stream",
     "text": [
      "Horizon +104h - Test MAE: 2.67%, RMSE: 3.87%\n"
     ]
    },
    {
     "name": "stderr",
     "output_type": "stream",
     "text": [
      "Training models:  62%|███████████████████████████████████████▍                       | 105/168 [01:22<00:48,  1.29it/s]"
     ]
    },
    {
     "name": "stdout",
     "output_type": "stream",
     "text": [
      "Horizon +105h - Test MAE: 2.70%, RMSE: 3.93%\n"
     ]
    },
    {
     "name": "stderr",
     "output_type": "stream",
     "text": [
      "Training models:  63%|███████████████████████████████████████▊                       | 106/168 [01:23<00:45,  1.35it/s]"
     ]
    },
    {
     "name": "stdout",
     "output_type": "stream",
     "text": [
      "Horizon +106h - Test MAE: 2.72%, RMSE: 3.94%\n"
     ]
    },
    {
     "name": "stderr",
     "output_type": "stream",
     "text": [
      "Training models:  64%|████████████████████████████████████████▏                      | 107/168 [01:24<00:43,  1.41it/s]"
     ]
    },
    {
     "name": "stdout",
     "output_type": "stream",
     "text": [
      "Horizon +107h - Test MAE: 2.71%, RMSE: 3.93%\n"
     ]
    },
    {
     "name": "stderr",
     "output_type": "stream",
     "text": [
      "Training models:  64%|████████████████████████████████████████▌                      | 108/168 [01:24<00:41,  1.43it/s]"
     ]
    },
    {
     "name": "stdout",
     "output_type": "stream",
     "text": [
      "Horizon +108h - Test MAE: 2.73%, RMSE: 3.96%\n"
     ]
    },
    {
     "name": "stderr",
     "output_type": "stream",
     "text": [
      "Training models:  65%|████████████████████████████████████████▉                      | 109/168 [01:25<00:40,  1.45it/s]"
     ]
    },
    {
     "name": "stdout",
     "output_type": "stream",
     "text": [
      "Horizon +109h - Test MAE: 2.75%, RMSE: 3.95%\n"
     ]
    },
    {
     "name": "stderr",
     "output_type": "stream",
     "text": [
      "Training models:  65%|█████████████████████████████████████████▎                     | 110/168 [01:26<00:39,  1.47it/s]"
     ]
    },
    {
     "name": "stdout",
     "output_type": "stream",
     "text": [
      "Horizon +110h - Test MAE: 2.74%, RMSE: 3.95%\n"
     ]
    },
    {
     "name": "stderr",
     "output_type": "stream",
     "text": [
      "Training models:  66%|█████████████████████████████████████████▋                     | 111/168 [01:26<00:39,  1.43it/s]"
     ]
    },
    {
     "name": "stdout",
     "output_type": "stream",
     "text": [
      "Horizon +111h - Test MAE: 2.73%, RMSE: 3.94%\n"
     ]
    },
    {
     "name": "stderr",
     "output_type": "stream",
     "text": [
      "Training models:  67%|██████████████████████████████████████████                     | 112/168 [01:27<00:38,  1.46it/s]"
     ]
    },
    {
     "name": "stdout",
     "output_type": "stream",
     "text": [
      "Horizon +112h - Test MAE: 2.76%, RMSE: 3.99%\n"
     ]
    },
    {
     "name": "stderr",
     "output_type": "stream",
     "text": [
      "Training models:  67%|██████████████████████████████████████████▍                    | 113/168 [01:28<00:37,  1.47it/s]"
     ]
    },
    {
     "name": "stdout",
     "output_type": "stream",
     "text": [
      "Horizon +113h - Test MAE: 2.79%, RMSE: 3.99%\n"
     ]
    },
    {
     "name": "stderr",
     "output_type": "stream",
     "text": [
      "Training models:  68%|██████████████████████████████████████████▊                    | 114/168 [01:29<00:38,  1.39it/s]"
     ]
    },
    {
     "name": "stdout",
     "output_type": "stream",
     "text": [
      "Horizon +114h - Test MAE: 2.79%, RMSE: 4.01%\n"
     ]
    },
    {
     "name": "stderr",
     "output_type": "stream",
     "text": [
      "Training models:  68%|███████████████████████████████████████████▏                   | 115/168 [01:29<00:37,  1.42it/s]"
     ]
    },
    {
     "name": "stdout",
     "output_type": "stream",
     "text": [
      "Horizon +115h - Test MAE: 2.77%, RMSE: 3.99%\n"
     ]
    },
    {
     "name": "stderr",
     "output_type": "stream",
     "text": [
      "Training models:  69%|███████████████████████████████████████████▌                   | 116/168 [01:30<00:36,  1.43it/s]"
     ]
    },
    {
     "name": "stdout",
     "output_type": "stream",
     "text": [
      "Horizon +116h - Test MAE: 2.78%, RMSE: 4.01%\n"
     ]
    },
    {
     "name": "stderr",
     "output_type": "stream",
     "text": [
      "Training models:  70%|███████████████████████████████████████████▉                   | 117/168 [01:31<00:35,  1.42it/s]"
     ]
    },
    {
     "name": "stdout",
     "output_type": "stream",
     "text": [
      "Horizon +117h - Test MAE: 2.80%, RMSE: 4.02%\n"
     ]
    },
    {
     "name": "stderr",
     "output_type": "stream",
     "text": [
      "Training models:  70%|████████████████████████████████████████████▎                  | 118/168 [01:31<00:34,  1.44it/s]"
     ]
    },
    {
     "name": "stdout",
     "output_type": "stream",
     "text": [
      "Horizon +118h - Test MAE: 2.80%, RMSE: 4.01%\n"
     ]
    },
    {
     "name": "stderr",
     "output_type": "stream",
     "text": [
      "Training models:  71%|████████████████████████████████████████████▋                  | 119/168 [01:32<00:33,  1.45it/s]"
     ]
    },
    {
     "name": "stdout",
     "output_type": "stream",
     "text": [
      "Horizon +119h - Test MAE: 2.85%, RMSE: 4.08%\n"
     ]
    },
    {
     "name": "stderr",
     "output_type": "stream",
     "text": [
      "Training models:  71%|█████████████████████████████████████████████                  | 120/168 [01:33<00:34,  1.39it/s]"
     ]
    },
    {
     "name": "stdout",
     "output_type": "stream",
     "text": [
      "Horizon +120h - Test MAE: 2.85%, RMSE: 4.09%\n"
     ]
    },
    {
     "name": "stderr",
     "output_type": "stream",
     "text": [
      "Training models:  72%|█████████████████████████████████████████████▍                 | 121/168 [01:33<00:33,  1.40it/s]"
     ]
    },
    {
     "name": "stdout",
     "output_type": "stream",
     "text": [
      "Horizon +121h - Test MAE: 2.85%, RMSE: 4.08%\n"
     ]
    },
    {
     "name": "stderr",
     "output_type": "stream",
     "text": [
      "Training models:  73%|█████████████████████████████████████████████▊                 | 122/168 [01:34<00:32,  1.41it/s]"
     ]
    },
    {
     "name": "stdout",
     "output_type": "stream",
     "text": [
      "Horizon +122h - Test MAE: 2.87%, RMSE: 4.10%\n"
     ]
    },
    {
     "name": "stderr",
     "output_type": "stream",
     "text": [
      "Training models:  73%|██████████████████████████████████████████████▏                | 123/168 [01:35<00:31,  1.44it/s]"
     ]
    },
    {
     "name": "stdout",
     "output_type": "stream",
     "text": [
      "Horizon +123h - Test MAE: 2.88%, RMSE: 4.10%\n"
     ]
    },
    {
     "name": "stderr",
     "output_type": "stream",
     "text": [
      "Training models:  74%|██████████████████████████████████████████████▌                | 124/168 [01:36<00:30,  1.44it/s]"
     ]
    },
    {
     "name": "stdout",
     "output_type": "stream",
     "text": [
      "Horizon +124h - Test MAE: 2.90%, RMSE: 4.13%\n"
     ]
    },
    {
     "name": "stderr",
     "output_type": "stream",
     "text": [
      "Training models:  74%|██████████████████████████████████████████████▉                | 125/168 [01:36<00:29,  1.45it/s]"
     ]
    },
    {
     "name": "stdout",
     "output_type": "stream",
     "text": [
      "Horizon +125h - Test MAE: 2.88%, RMSE: 4.11%\n"
     ]
    },
    {
     "name": "stderr",
     "output_type": "stream",
     "text": [
      "Training models:  75%|███████████████████████████████████████████████▎               | 126/168 [01:37<00:28,  1.45it/s]"
     ]
    },
    {
     "name": "stdout",
     "output_type": "stream",
     "text": [
      "Horizon +126h - Test MAE: 2.93%, RMSE: 4.17%\n"
     ]
    },
    {
     "name": "stderr",
     "output_type": "stream",
     "text": [
      "Training models:  76%|███████████████████████████████████████████████▋               | 127/168 [01:38<00:28,  1.45it/s]"
     ]
    },
    {
     "name": "stdout",
     "output_type": "stream",
     "text": [
      "Horizon +127h - Test MAE: 2.92%, RMSE: 4.16%\n"
     ]
    },
    {
     "name": "stderr",
     "output_type": "stream",
     "text": [
      "Training models:  76%|████████████████████████████████████████████████               | 128/168 [01:38<00:27,  1.43it/s]"
     ]
    },
    {
     "name": "stdout",
     "output_type": "stream",
     "text": [
      "Horizon +128h - Test MAE: 2.93%, RMSE: 4.21%\n"
     ]
    },
    {
     "name": "stderr",
     "output_type": "stream",
     "text": [
      "Training models:  77%|████████████████████████████████████████████████▍              | 129/168 [01:39<00:27,  1.44it/s]"
     ]
    },
    {
     "name": "stdout",
     "output_type": "stream",
     "text": [
      "Horizon +129h - Test MAE: 2.94%, RMSE: 4.18%\n"
     ]
    },
    {
     "name": "stderr",
     "output_type": "stream",
     "text": [
      "Training models:  77%|████████████████████████████████████████████████▊              | 130/168 [01:40<00:26,  1.45it/s]"
     ]
    },
    {
     "name": "stdout",
     "output_type": "stream",
     "text": [
      "Horizon +130h - Test MAE: 2.93%, RMSE: 4.19%\n"
     ]
    },
    {
     "name": "stderr",
     "output_type": "stream",
     "text": [
      "Training models:  78%|█████████████████████████████████████████████████▏             | 131/168 [01:40<00:25,  1.43it/s]"
     ]
    },
    {
     "name": "stdout",
     "output_type": "stream",
     "text": [
      "Horizon +131h - Test MAE: 2.98%, RMSE: 4.25%\n"
     ]
    },
    {
     "name": "stderr",
     "output_type": "stream",
     "text": [
      "Training models:  79%|█████████████████████████████████████████████████▌             | 132/168 [01:41<00:25,  1.44it/s]"
     ]
    },
    {
     "name": "stdout",
     "output_type": "stream",
     "text": [
      "Horizon +132h - Test MAE: 3.00%, RMSE: 4.26%\n"
     ]
    },
    {
     "name": "stderr",
     "output_type": "stream",
     "text": [
      "Training models:  79%|█████████████████████████████████████████████████▉             | 133/168 [01:42<00:24,  1.44it/s]"
     ]
    },
    {
     "name": "stdout",
     "output_type": "stream",
     "text": [
      "Horizon +133h - Test MAE: 3.00%, RMSE: 4.28%\n"
     ]
    },
    {
     "name": "stderr",
     "output_type": "stream",
     "text": [
      "Training models:  80%|██████████████████████████████████████████████████▎            | 134/168 [01:43<00:23,  1.42it/s]"
     ]
    },
    {
     "name": "stdout",
     "output_type": "stream",
     "text": [
      "Horizon +134h - Test MAE: 3.01%, RMSE: 4.31%\n"
     ]
    },
    {
     "name": "stderr",
     "output_type": "stream",
     "text": [
      "Training models:  80%|██████████████████████████████████████████████████▋            | 135/168 [01:43<00:24,  1.36it/s]"
     ]
    },
    {
     "name": "stdout",
     "output_type": "stream",
     "text": [
      "Horizon +135h - Test MAE: 3.01%, RMSE: 4.29%\n"
     ]
    },
    {
     "name": "stderr",
     "output_type": "stream",
     "text": [
      "Training models:  81%|███████████████████████████████████████████████████            | 136/168 [01:44<00:22,  1.41it/s]"
     ]
    },
    {
     "name": "stdout",
     "output_type": "stream",
     "text": [
      "Horizon +136h - Test MAE: 3.03%, RMSE: 4.34%\n"
     ]
    },
    {
     "name": "stderr",
     "output_type": "stream",
     "text": [
      "Training models:  82%|███████████████████████████████████████████████████▍           | 137/168 [01:45<00:21,  1.45it/s]"
     ]
    },
    {
     "name": "stdout",
     "output_type": "stream",
     "text": [
      "Horizon +137h - Test MAE: 3.02%, RMSE: 4.31%\n"
     ]
    },
    {
     "name": "stderr",
     "output_type": "stream",
     "text": [
      "Training models:  82%|███████████████████████████████████████████████████▊           | 138/168 [01:45<00:21,  1.42it/s]"
     ]
    },
    {
     "name": "stdout",
     "output_type": "stream",
     "text": [
      "Horizon +138h - Test MAE: 3.03%, RMSE: 4.32%\n"
     ]
    },
    {
     "name": "stderr",
     "output_type": "stream",
     "text": [
      "Training models:  83%|████████████████████████████████████████████████████▏          | 139/168 [01:46<00:20,  1.45it/s]"
     ]
    },
    {
     "name": "stdout",
     "output_type": "stream",
     "text": [
      "Horizon +139h - Test MAE: 3.05%, RMSE: 4.35%\n"
     ]
    },
    {
     "name": "stderr",
     "output_type": "stream",
     "text": [
      "Training models:  83%|████████████████████████████████████████████████████▌          | 140/168 [01:47<00:19,  1.45it/s]"
     ]
    },
    {
     "name": "stdout",
     "output_type": "stream",
     "text": [
      "Horizon +140h - Test MAE: 3.04%, RMSE: 4.38%\n"
     ]
    },
    {
     "name": "stderr",
     "output_type": "stream",
     "text": [
      "Training models:  84%|████████████████████████████████████████████████████▉          | 141/168 [01:47<00:18,  1.43it/s]"
     ]
    },
    {
     "name": "stdout",
     "output_type": "stream",
     "text": [
      "Horizon +141h - Test MAE: 3.04%, RMSE: 4.34%\n"
     ]
    },
    {
     "name": "stderr",
     "output_type": "stream",
     "text": [
      "Training models:  85%|█████████████████████████████████████████████████████▎         | 142/168 [01:48<00:17,  1.45it/s]"
     ]
    },
    {
     "name": "stdout",
     "output_type": "stream",
     "text": [
      "Horizon +142h - Test MAE: 3.06%, RMSE: 4.40%\n"
     ]
    },
    {
     "name": "stderr",
     "output_type": "stream",
     "text": [
      "Training models:  85%|█████████████████████████████████████████████████████▋         | 143/168 [01:49<00:17,  1.46it/s]"
     ]
    },
    {
     "name": "stdout",
     "output_type": "stream",
     "text": [
      "Horizon +143h - Test MAE: 3.07%, RMSE: 4.42%\n"
     ]
    },
    {
     "name": "stderr",
     "output_type": "stream",
     "text": [
      "Training models:  86%|██████████████████████████████████████████████████████         | 144/168 [01:49<00:16,  1.47it/s]"
     ]
    },
    {
     "name": "stdout",
     "output_type": "stream",
     "text": [
      "Horizon +144h - Test MAE: 3.10%, RMSE: 4.42%\n"
     ]
    },
    {
     "name": "stderr",
     "output_type": "stream",
     "text": [
      "Training models:  86%|██████████████████████████████████████████████████████▍        | 145/168 [01:50<00:16,  1.43it/s]"
     ]
    },
    {
     "name": "stdout",
     "output_type": "stream",
     "text": [
      "Horizon +145h - Test MAE: 3.11%, RMSE: 4.43%\n"
     ]
    },
    {
     "name": "stderr",
     "output_type": "stream",
     "text": [
      "Training models:  87%|██████████████████████████████████████████████████████▊        | 146/168 [01:51<00:15,  1.40it/s]"
     ]
    },
    {
     "name": "stdout",
     "output_type": "stream",
     "text": [
      "Horizon +146h - Test MAE: 3.12%, RMSE: 4.48%\n"
     ]
    },
    {
     "name": "stderr",
     "output_type": "stream",
     "text": [
      "Training models:  88%|███████████████████████████████████████████████████████▏       | 147/168 [01:52<00:14,  1.40it/s]"
     ]
    },
    {
     "name": "stdout",
     "output_type": "stream",
     "text": [
      "Horizon +147h - Test MAE: 3.15%, RMSE: 4.48%\n"
     ]
    },
    {
     "name": "stderr",
     "output_type": "stream",
     "text": [
      "Training models:  88%|███████████████████████████████████████████████████████▌       | 148/168 [01:52<00:14,  1.43it/s]"
     ]
    },
    {
     "name": "stdout",
     "output_type": "stream",
     "text": [
      "Horizon +148h - Test MAE: 3.15%, RMSE: 4.49%\n"
     ]
    },
    {
     "name": "stderr",
     "output_type": "stream",
     "text": [
      "Training models:  89%|███████████████████████████████████████████████████████▉       | 149/168 [01:53<00:13,  1.42it/s]"
     ]
    },
    {
     "name": "stdout",
     "output_type": "stream",
     "text": [
      "Horizon +149h - Test MAE: 3.16%, RMSE: 4.50%\n"
     ]
    },
    {
     "name": "stderr",
     "output_type": "stream",
     "text": [
      "Training models:  89%|████████████████████████████████████████████████████████▎      | 150/168 [01:54<00:12,  1.41it/s]"
     ]
    },
    {
     "name": "stdout",
     "output_type": "stream",
     "text": [
      "Horizon +150h - Test MAE: 3.15%, RMSE: 4.47%\n"
     ]
    },
    {
     "name": "stderr",
     "output_type": "stream",
     "text": [
      "Training models:  90%|████████████████████████████████████████████████████████▋      | 151/168 [01:54<00:12,  1.40it/s]"
     ]
    },
    {
     "name": "stdout",
     "output_type": "stream",
     "text": [
      "Horizon +151h - Test MAE: 3.17%, RMSE: 4.51%\n"
     ]
    },
    {
     "name": "stderr",
     "output_type": "stream",
     "text": [
      "Training models:  90%|█████████████████████████████████████████████████████████      | 152/168 [01:55<00:11,  1.44it/s]"
     ]
    },
    {
     "name": "stdout",
     "output_type": "stream",
     "text": [
      "Horizon +152h - Test MAE: 3.18%, RMSE: 4.56%\n"
     ]
    },
    {
     "name": "stderr",
     "output_type": "stream",
     "text": [
      "Training models:  91%|█████████████████████████████████████████████████████████▍     | 153/168 [01:56<00:10,  1.46it/s]"
     ]
    },
    {
     "name": "stdout",
     "output_type": "stream",
     "text": [
      "Horizon +153h - Test MAE: 3.23%, RMSE: 4.59%\n"
     ]
    },
    {
     "name": "stderr",
     "output_type": "stream",
     "text": [
      "Training models:  92%|█████████████████████████████████████████████████████████▊     | 154/168 [01:56<00:09,  1.47it/s]"
     ]
    },
    {
     "name": "stdout",
     "output_type": "stream",
     "text": [
      "Horizon +154h - Test MAE: 3.21%, RMSE: 4.55%\n"
     ]
    },
    {
     "name": "stderr",
     "output_type": "stream",
     "text": [
      "Training models:  92%|██████████████████████████████████████████████████████████▏    | 155/168 [01:57<00:09,  1.37it/s]"
     ]
    },
    {
     "name": "stdout",
     "output_type": "stream",
     "text": [
      "Horizon +155h - Test MAE: 3.21%, RMSE: 4.56%\n"
     ]
    },
    {
     "name": "stderr",
     "output_type": "stream",
     "text": [
      "Training models:  93%|██████████████████████████████████████████████████████████▌    | 156/168 [01:58<00:09,  1.28it/s]"
     ]
    },
    {
     "name": "stdout",
     "output_type": "stream",
     "text": [
      "Horizon +156h - Test MAE: 3.24%, RMSE: 4.57%\n"
     ]
    },
    {
     "name": "stderr",
     "output_type": "stream",
     "text": [
      "Training models:  93%|██████████████████████████████████████████████████████████▉    | 157/168 [01:59<00:08,  1.30it/s]"
     ]
    },
    {
     "name": "stdout",
     "output_type": "stream",
     "text": [
      "Horizon +157h - Test MAE: 3.25%, RMSE: 4.61%\n"
     ]
    },
    {
     "name": "stderr",
     "output_type": "stream",
     "text": [
      "Training models:  94%|███████████████████████████████████████████████████████████▎   | 158/168 [02:00<00:07,  1.36it/s]"
     ]
    },
    {
     "name": "stdout",
     "output_type": "stream",
     "text": [
      "Horizon +158h - Test MAE: 3.23%, RMSE: 4.55%\n"
     ]
    },
    {
     "name": "stderr",
     "output_type": "stream",
     "text": [
      "Training models:  95%|███████████████████████████████████████████████████████████▋   | 159/168 [02:00<00:06,  1.39it/s]"
     ]
    },
    {
     "name": "stdout",
     "output_type": "stream",
     "text": [
      "Horizon +159h - Test MAE: 3.29%, RMSE: 4.66%\n"
     ]
    },
    {
     "name": "stderr",
     "output_type": "stream",
     "text": [
      "Training models:  95%|████████████████████████████████████████████████████████████   | 160/168 [02:01<00:05,  1.40it/s]"
     ]
    },
    {
     "name": "stdout",
     "output_type": "stream",
     "text": [
      "Horizon +160h - Test MAE: 3.26%, RMSE: 4.61%\n"
     ]
    },
    {
     "name": "stderr",
     "output_type": "stream",
     "text": [
      "Training models:  96%|████████████████████████████████████████████████████████████▍  | 161/168 [02:02<00:04,  1.42it/s]"
     ]
    },
    {
     "name": "stdout",
     "output_type": "stream",
     "text": [
      "Horizon +161h - Test MAE: 3.30%, RMSE: 4.61%\n"
     ]
    },
    {
     "name": "stderr",
     "output_type": "stream",
     "text": [
      "Training models:  96%|████████████████████████████████████████████████████████████▊  | 162/168 [02:02<00:04,  1.40it/s]"
     ]
    },
    {
     "name": "stdout",
     "output_type": "stream",
     "text": [
      "Horizon +162h - Test MAE: 3.31%, RMSE: 4.63%\n"
     ]
    },
    {
     "name": "stderr",
     "output_type": "stream",
     "text": [
      "Training models:  97%|█████████████████████████████████████████████████████████████▏ | 163/168 [02:03<00:03,  1.32it/s]"
     ]
    },
    {
     "name": "stdout",
     "output_type": "stream",
     "text": [
      "Horizon +163h - Test MAE: 3.30%, RMSE: 4.60%\n"
     ]
    },
    {
     "name": "stderr",
     "output_type": "stream",
     "text": [
      "Training models:  98%|█████████████████████████████████████████████████████████████▌ | 164/168 [02:04<00:03,  1.26it/s]"
     ]
    },
    {
     "name": "stdout",
     "output_type": "stream",
     "text": [
      "Horizon +164h - Test MAE: 3.31%, RMSE: 4.62%\n"
     ]
    },
    {
     "name": "stderr",
     "output_type": "stream",
     "text": [
      "Training models:  98%|█████████████████████████████████████████████████████████████▉ | 165/168 [02:05<00:02,  1.16it/s]"
     ]
    },
    {
     "name": "stdout",
     "output_type": "stream",
     "text": [
      "Horizon +165h - Test MAE: 3.28%, RMSE: 4.56%\n"
     ]
    },
    {
     "name": "stderr",
     "output_type": "stream",
     "text": [
      "Training models:  99%|██████████████████████████████████████████████████████████████▎| 166/168 [02:06<00:01,  1.18it/s]"
     ]
    },
    {
     "name": "stdout",
     "output_type": "stream",
     "text": [
      "Horizon +166h - Test MAE: 3.31%, RMSE: 4.66%\n"
     ]
    },
    {
     "name": "stderr",
     "output_type": "stream",
     "text": [
      "Training models:  99%|██████████████████████████████████████████████████████████████▋| 167/168 [02:07<00:00,  1.18it/s]"
     ]
    },
    {
     "name": "stdout",
     "output_type": "stream",
     "text": [
      "Horizon +167h - Test MAE: 3.38%, RMSE: 4.72%\n"
     ]
    },
    {
     "name": "stderr",
     "output_type": "stream",
     "text": [
      "Training models: 100%|███████████████████████████████████████████████████████████████| 168/168 [02:08<00:00,  1.31it/s]"
     ]
    },
    {
     "name": "stdout",
     "output_type": "stream",
     "text": [
      "Horizon +168h - Test MAE: 3.37%, RMSE: 4.67%\n"
     ]
    },
    {
     "name": "stderr",
     "output_type": "stream",
     "text": [
      "\n"
     ]
    }
   ],
   "source": [
    "from xgboost import XGBRegressor\n",
    "from sklearn.metrics import mean_absolute_error, mean_squared_error\n",
    "import joblib\n",
    "from tqdm import tqdm\n",
    "import math\n",
    "\n",
    "models = []\n",
    "for i, h in tqdm(enumerate(horizons), total=len(horizons), desc=\"Training models\"):\n",
    "    model = XGBRegressor(n_estimators=100, random_state=42, n_jobs=-1)\n",
    "    model.fit(X_train_list[i], y_train_list[i])\n",
    "    models.append(model)\n",
    "    \n",
    "    # Predict on test set\n",
    "    test_preds = model.predict(X_test_list[i])\n",
    "    mae = mean_absolute_error(y_test_list[i], test_preds)\n",
    "    rmse = math.sqrt(mean_squared_error(y_test_list[i], test_preds))\n",
    "    print(f'Horizon +{h}h - Test MAE: {mae:.2f}%, RMSE: {rmse:.2f}%')\n",
    "    \n",
    "    joblib.dump(model, f'model_horizon_{h}h.pkl')"
   ]
  },
  {
   "cell_type": "code",
   "execution_count": 9,
   "id": "856d8fca-07ff-4c3d-a158-7ba01a00cc47",
   "metadata": {},
   "outputs": [
    {
     "name": "stdout",
     "output_type": "stream",
     "text": [
      "Closest available time to 2025-09-02 06:00:00: 2025-09-02 06:00:00\n",
      "df index range: 1997-03-23 10:00:00 to 2025-09-18 03:00:00\n",
      "Actual df index range: 2025-08-26 06:00:00 to 2025-09-09 06:00:00\n",
      "Actual SMS range: -168.0 to 168.0 hours\n"
     ]
    },
    {
     "data": {
      "image/png": "[encoded data removed]",
      "text/plain": [
       "<Figure size 1200x600 with 2 Axes>"
      ]
     },
     "metadata": {},
     "output_type": "display_data"
    }
   ],
   "source": [
    "from scipy.interpolate import CubicSpline\n",
    "import matplotlib.pyplot as plt\n",
    "import pandas as pd\n",
    "import numpy as np\n",
    "\n",
    "def plot_prediction_at_time(input_time, df, models, X_cols, horizons, target_col):\n",
    "    \"\"\"\n",
    "    Generate a prediction graph for a user-specified time, showing 7 days before and 7 days after.\n",
    "    \n",
    "    Parameters:\n",
    "    - input_time: pd.Timestamp or str (e.g., '2020-01-01 12:00') for the prediction start time\n",
    "    - df: DataFrame containing the time series data\n",
    "    - models: List of trained XGBoost models (one per horizon)\n",
    "    - X_cols: List of feature column names\n",
    "    - horizons: List of forecast horizons [1, 2, ..., 168]\n",
    "    - target_col: Target column name (e.g., 'SMS.I-1:-4 (pct) (loam)')\n",
    "    \"\"\"\n",
    "    # Convert input_time to Timestamp if it's a string\n",
    "    if isinstance(input_time, str):\n",
    "        input_time = pd.Timestamp(input_time)\n",
    "    \n",
    "    # Find the closest timestamp in df\n",
    "    closest_time = df.index[df.index.get_indexer([input_time], method='nearest')[0]]\n",
    "    print(f\"Closest available time to {input_time}: {closest_time}\")\n",
    "    print(f\"df index range: {df.index.min()} to {df.index.max()}\")\n",
    "    \n",
    "    # Prepare input data for prediction\n",
    "    input_X = df.loc[[closest_time], X_cols]\n",
    "    \n",
    "    # Predict for the next 7 days (hourly)\n",
    "    preds = [models[i].predict(input_X)[0] for i in range(len(horizons))]\n",
    "    \n",
    "    # Interpolate to hourly (optional, since preds are already hourly)\n",
    "    pred_hours = np.arange(1, 169, 1)  # 1 to 168 hours\n",
    "    spline = CubicSpline(horizons, preds)\n",
    "    hourly_preds = spline(pred_hours)\n",
    "    \n",
    "    # Get historical data (exactly 7 days before closest_time)\n",
    "    past_hours = 168\n",
    "    historical_df = df[[target_col, 'Precip (in)', 'TOBS.I-1 (degC)']].loc[\n",
    "        closest_time - pd.Timedelta(hours=past_hours):closest_time - pd.Timedelta(hours=1)\n",
    "    ]  # 168 hours, excluding end point\n",
    "    historical_hours = np.arange(-past_hours, 0, 1)  # -168 to -1\n",
    "    \n",
    "    # Get actual data within the 7-day input and output window\n",
    "    window_start = closest_time - pd.Timedelta(hours=past_hours)\n",
    "    window_end = closest_time + pd.Timedelta(hours=168)\n",
    "    actual_df = df[[target_col]].loc[window_start:window_end]\n",
    "    print(f\"Actual df index range: {actual_df.index.min() if not actual_df.empty else 'Empty'} to {actual_df.index.max() if not actual_df.empty else 'Empty'}\")\n",
    "    if not actual_df.empty:\n",
    "        # Calculate actual_hours based on time difference in hours\n",
    "        time_diffs = (actual_df.index - closest_time).total_seconds() / 3600  # Convert seconds to hours\n",
    "        actual_hours = time_diffs.values\n",
    "    else:\n",
    "        actual_hours = np.array([])\n",
    "        print(\"Warning: No actual data available within the 14-day window.\")\n",
    "    \n",
    "    # Create dual-axis plot\n",
    "    fig, ax1 = plt.subplots(figsize=(12, 6))\n",
    "    \n",
    "    # Left y-axis: Soil moisture (historical, predicted, actual)\n",
    "    ax1.plot(historical_hours, historical_df[target_col], label='Historical SMS (-4cm)', color='blue')\n",
    "    if not actual_df.empty:\n",
    "        ax1.plot(actual_hours, actual_df[target_col], label='Actual SMS (-4cm)', color='green')\n",
    "        print(f\"Actual SMS range: {actual_hours[0]} to {actual_hours[-1]} hours\")\n",
    "    ax1.plot(pred_hours, hourly_preds, label='Predicted SMS (-4cm)', color='blue', linestyle='--')\n",
    "    ax1.scatter(horizons, preds, color='red', label='Model Outputs')\n",
    "    ax1.set_xlabel(f'Hours Relative to {closest_time} (0 = Prediction Start)')\n",
    "    ax1.set_ylabel('Soil Moisture (%)', color='blue')\n",
    "    ax1.set_xlim(-168, 168)  # Limit to 7 days before and 7 days after\n",
    "    ax1.tick_params(axis='y', labelcolor='blue')\n",
    "    ax1.legend(loc='upper left')\n",
    "    \n",
    "    # Right y-axis: Precipitation and Temperature (historical)\n",
    "    ax2 = ax1.twinx()\n",
    "    ax2.plot(historical_hours, historical_df['Precip (in)'], label='Historical Precip (in)', color='yellow')\n",
    "    ax2.plot(historical_hours, historical_df['TOBS.I-1 (degC)'], label='Historical Temp (°C)', color='orange')\n",
    "    ax2.set_ylabel('Precip (in) / Temp (°C)', color='green')\n",
    "    ax2.tick_params(axis='y', labelcolor='green')\n",
    "    ax2.legend(loc='upper right')\n",
    "    \n",
    "    # Title and grid\n",
    "    plt.title(f'Soil Moisture Prediction from {closest_time} at 4cm (7 days in, 7 days out)')\n",
    "    fig.tight_layout()\n",
    "    plt.grid(True)\n",
    "    plt.show()\n",
    "\n",
    "# Example usage\n",
    "plot_prediction_at_time('2025-09-02 06:00', df, models, X_cols, horizons, target_col)"
   ]
  },
  {
   "cell_type": "code",
   "execution_count": null,
   "id": "38a83b9b-b958-4e32-b16e-76d91b7bede3",
   "metadata": {},
   "outputs": [],
   "source": []
  }
 ],
 "metadata": {
  "kernelspec": {
   "display_name": "Python 3 (ipykernel)",
   "language": "python",
   "name": "python3"
  },
  "language_info": {
   "codemirror_mode": {
    "name": "ipython",
    "version": 3
   },
   "file_extension": ".py",
   "mimetype": "text/x-python",
   "name": "python",
   "nbconvert_exporter": "python",
   "pygments_lexer": "ipython3",
   "version": "3.12.4"
  }
 },
 "nbformat": 4,
 "nbformat_minor": 5
}
