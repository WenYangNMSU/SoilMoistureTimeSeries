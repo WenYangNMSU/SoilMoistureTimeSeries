{
 "cells": [
  {
   "cell_type": "code",
   "execution_count": 1,
   "id": "8e71a528-6060-42ea-a779-9d189b74bd04",
   "metadata": {},
   "outputs": [
    {
     "name": "stdout",
     "output_type": "stream",
     "text": [
      "NaN proportions:\n",
      " Site Id                     0.000000\n",
      "PREC.I-1 (in)               0.854160\n",
      "TOBS.I-1 (degC)             0.000612\n",
      "STO.I-1:-2 (degC)           0.007993\n",
      "STO.I-1:-4 (degC)           0.108889\n",
      "STO.I-1:-8 (degC)           0.003780\n",
      "STO.I-1:-20 (degC)          0.004372\n",
      "STO.I-1:-40 (degC)          0.148136\n",
      "STO.I-1:-80 (degC)          0.999796\n",
      "BATT.I-1 (volt)             0.000387\n",
      "STV.H-1:-4 (degC)           0.999918\n",
      "SRAD.I-1 (watt)             0.993936\n",
      "ETIL.I-1 (volt)             0.776799\n",
      "ETIB.I-1 (volt)             0.776811\n",
      "TMAX.H-1 (degC)             0.009738\n",
      "TMIN.H-1 (degC)             0.009906\n",
      "TAVG.H-1 (degC)             0.009865\n",
      "SMS.I-1:-2 (pct) (loam)     0.028979\n",
      "SMS.I-1:-4 (pct) (loam)     0.063263\n",
      "SMS.I-1:-8 (pct) (loam)     0.030904\n",
      "SMS.I-1:-20 (pct) (loam)    0.112363\n",
      "SMS.I-1:-40 (pct) (loam)    0.202664\n",
      "SAL.I-1:-2 (gram)           0.017034\n",
      "SAL.I-1:-4 (gram)           0.030916\n",
      "SAL.I-1:-8 (gram)           0.012821\n",
      "SAL.I-1:-20 (gram)          0.016161\n",
      "SAL.I-1:-40 (gram)          0.135404\n",
      "RDC.I-1:-2 (unit)           0.017038\n",
      "RDC.I-1:-4 (unit)           0.035659\n",
      "RDC.I-1:-8 (unit)           0.017560\n",
      "RDC.I-1:-20 (unit)          0.017784\n",
      "RDC.I-1:-40 (unit)          0.131860\n",
      "RHUM.I-1 (pct)              0.062978\n",
      "SRADV.H-1 (watt)            0.140905\n",
      "WDMVV.H-1 (mile)            0.785930\n",
      "RHUMN.H-1 (pct)             0.063161\n",
      "RHUMX.H-1 (pct)             0.062884\n",
      "PRCP.H-1 (in)               0.257583\n",
      "BATT.I-2 (volt)             0.967653\n",
      "WDIRV.H-1 (degr)            0.304632\n",
      "WSPDX.H-1 (mph)             0.251442\n",
      "WSPDV.H-1 (mph)             0.251442\n",
      "PRES.I-1 (inch)             0.551604\n",
      "DPTP.H-1 (degC)             0.454370\n",
      "PVPV.H-1 (kPa)              0.462755\n",
      "SVPV.H-1 (kPa)              0.454346\n",
      "dtype: float64\n",
      "Kept columns: Index(['Site Id', 'TOBS.I-1 (degC)', 'STO.I-1:-2 (degC)', 'STO.I-1:-4 (degC)',\n",
      "       'STO.I-1:-8 (degC)', 'STO.I-1:-20 (degC)', 'STO.I-1:-40 (degC)',\n",
      "       'BATT.I-1 (volt)', 'TMAX.H-1 (degC)', 'TMIN.H-1 (degC)',\n",
      "       'TAVG.H-1 (degC)', 'SMS.I-1:-2 (pct) (loam)', 'SMS.I-1:-4 (pct) (loam)',\n",
      "       'SMS.I-1:-8 (pct) (loam)', 'SMS.I-1:-20 (pct) (loam)',\n",
      "       'SMS.I-1:-40 (pct) (loam)', 'SAL.I-1:-2 (gram)', 'SAL.I-1:-4 (gram)',\n",
      "       'SAL.I-1:-8 (gram)', 'SAL.I-1:-20 (gram)', 'SAL.I-1:-40 (gram)',\n",
      "       'RDC.I-1:-2 (unit)', 'RDC.I-1:-4 (unit)', 'RDC.I-1:-8 (unit)',\n",
      "       'RDC.I-1:-20 (unit)', 'RDC.I-1:-40 (unit)', 'RHUM.I-1 (pct)',\n",
      "       'SRADV.H-1 (watt)', 'RHUMN.H-1 (pct)', 'RHUMX.H-1 (pct)',\n",
      "       'PRCP.H-1 (in)', 'WSPDX.H-1 (mph)', 'WSPDV.H-1 (mph)'],\n",
      "      dtype='object')\n",
      "First non-NaN SMS.I-1:-8: 1997-03-16 10:00:00\n",
      "Columns: Index(['Site Id', 'TOBS.I-1 (degC)', 'STO.I-1:-2 (degC)', 'STO.I-1:-4 (degC)',\n",
      "       'STO.I-1:-8 (degC)', 'STO.I-1:-20 (degC)', 'STO.I-1:-40 (degC)',\n",
      "       'BATT.I-1 (volt)', 'TMAX.H-1 (degC)', 'TMIN.H-1 (degC)',\n",
      "       'TAVG.H-1 (degC)', 'SMS.I-1:-2 (pct) (loam)', 'SMS.I-1:-4 (pct) (loam)',\n",
      "       'SMS.I-1:-8 (pct) (loam)', 'SMS.I-1:-20 (pct) (loam)',\n",
      "       'SMS.I-1:-40 (pct) (loam)', 'SAL.I-1:-2 (gram)', 'SAL.I-1:-4 (gram)',\n",
      "       'SAL.I-1:-8 (gram)', 'SAL.I-1:-20 (gram)', 'SAL.I-1:-40 (gram)',\n",
      "       'RDC.I-1:-2 (unit)', 'RDC.I-1:-4 (unit)', 'RDC.I-1:-8 (unit)',\n",
      "       'RDC.I-1:-20 (unit)', 'RDC.I-1:-40 (unit)', 'RHUM.I-1 (pct)',\n",
      "       'SRADV.H-1 (watt)', 'RHUMN.H-1 (pct)', 'RHUMX.H-1 (pct)',\n",
      "       'WSPDX.H-1 (mph)', 'WSPDV.H-1 (mph)', 'Precip (in)'],\n",
      "      dtype='object')\n"
     ]
    }
   ],
   "source": [
    "import pandas as pd\n",
    "import numpy as np\n",
    "from glob import glob\n",
    "\n",
    "# Load CSVs\n",
    "files = glob('scan_data/*.csv')\n",
    "df_list = []\n",
    "for file in files:\n",
    "    df = pd.read_csv(file, skiprows=5, na_values=['', 'NaN', -99.9])\n",
    "    df = df.loc[:, ~df.columns.str.contains('^Unnamed', na=False)]\n",
    "    df.columns = [' '.join(col.split()) for col in df.columns.str.strip()]\n",
    "    df['datetime'] = pd.to_datetime(df['Date'] + ' ' + df['Time'], format='%Y-%m-%d %H:%M', errors='coerce')\n",
    "    df = df.dropna(subset=['datetime'])\n",
    "    df = df.set_index('datetime').drop(['Date', 'Time'], axis=1, errors='ignore')\n",
    "    df_list.append(df)\n",
    "\n",
    "# Concatenate and sort\n",
    "df = pd.concat(df_list).sort_index()\n",
    "\n",
    "# Normalize column names\n",
    "df.columns = [' '.join(col.split()) for col in df.columns.str.strip()]\n",
    "\n",
    "# Replace -99.9 with NaN\n",
    "df = df.replace(-99.9, np.nan)\n",
    "\n",
    "# Check NaN proportions\n",
    "nan_proportions = df.isna().mean()\n",
    "print(\"NaN proportions:\\n\", nan_proportions)\n",
    "\n",
    "# Drop columns with >30% NaNs\n",
    "valid_cols = nan_proportions[nan_proportions < 0.3].index\n",
    "df = df[valid_cols]\n",
    "print(\"Kept columns:\", valid_cols)\n",
    "\n",
    "# Use PRCP.H-1 (in) as primary precipitation\n",
    "if 'PRCP.H-1 (in)' in df.columns:\n",
    "    df['Precip (in)'] = df['PRCP.H-1 (in)'].fillna(0)\n",
    "    df = df.drop('PRCP.H-1 (in)', axis=1, errors='ignore')\n",
    "elif 'PREC.I-1 (in)' in df.columns:\n",
    "    df['Precip (in)'] = df['PREC.I-1 (in)'].fillna(0)\n",
    "    df = df.drop('PREC.I-1 (in)', axis=1, errors='ignore')\n",
    "else:\n",
    "    print(\"Warning: No precipitation column found. Adding zero-filled column.\")\n",
    "    df['Precip (in)'] = 0\n",
    "\n",
    "# Subset to start at 1997-03-16\n",
    "target_col = 'SMS.I-1:-4 (pct) (loam)'\n",
    "if target_col not in df.columns:\n",
    "    possible_targets = [col for col in df.columns if 'SMS.I-1:-8' in col]\n",
    "    if possible_targets:\n",
    "        target_col = possible_targets[0]\n",
    "        print(f\"Adjusted target_col to: {target_col}\")\n",
    "    else:\n",
    "        raise KeyError(\"No SMS.I-1:-8 column found in DataFrame.\")\n",
    "\n",
    "first_valid = df[target_col].first_valid_index()\n",
    "print(\"First non-NaN SMS.I-1:-8:\", first_valid)\n",
    "df = df.loc[first_valid:]  # ~245k rows\n",
    "\n",
    "# Interpolate remaining NaNs\n",
    "df = df.interpolate(method='time', limit_direction='both')\n",
    "\n",
    "# Ensure hourly continuity\n",
    "df = df.resample('h').interpolate(method='time')\n",
    "\n",
    "# Save\n",
    "df.to_csv('processed_hourly_scan_1997_2025.csv')\n",
    "#print(\"First 5 rows:\\n\", df.head())\n",
    "print(\"Columns:\", df.columns)"
   ]
  },
  {
   "cell_type": "code",
   "execution_count": 2,
   "id": "9114c819-b9f7-4aab-9ce1-487e8e107090",
   "metadata": {},
   "outputs": [
    {
     "name": "stdout",
     "output_type": "stream",
     "text": [
      "Modified DataFrame saved as 'processed_df.pkl'\n",
      "Creating train sequences...\n"
     ]
    },
    {
     "name": "stderr",
     "output_type": "stream",
     "text": [
      "Creating sequences: 100%|█████████████████████████████████████████████████████| 199646/199646 [29:06<00:00, 114.33it/s]\n"
     ]
    },
    {
     "name": "stdout",
     "output_type": "stream",
     "text": [
      "Creating test sequences...\n"
     ]
    },
    {
     "name": "stderr",
     "output_type": "stream",
     "text": [
      "Creating sequences: 100%|███████████████████████████████████████████████████████| 49924/49924 [01:41<00:00, 493.11it/s]\n"
     ]
    },
    {
     "data": {
      "text/plain": [
       "['scaler.pkl']"
      ]
     },
     "execution_count": 2,
     "metadata": {},
     "output_type": "execute_result"
    }
   ],
   "source": [
    "import numpy as np\n",
    "import pandas as pd\n",
    "import torch\n",
    "from torch.utils.data import Dataset, DataLoader\n",
    "from sklearn.preprocessing import MinMaxScaler\n",
    "from tqdm import tqdm\n",
    "import joblib\n",
    "\n",
    "# User-defined split date\n",
    "split_date = pd.Timestamp('2020-01-01')\n",
    "\n",
    "# Define sequence length (168 hours = 7 days)\n",
    "seq_length = 168\n",
    "\n",
    "# Load raw df (assuming this is where df is initially loaded)\n",
    "# df = pd.read_csv('your_raw_data.csv', index_col='datetime', parse_dates=True)  # Example\n",
    "\n",
    "# Add cyclic date features\n",
    "df['month_sin'] = np.sin(2 * np.pi * df.index.month / 12)\n",
    "df['month_cos'] = np.cos(2 * np.pi * df.index.month / 12)\n",
    "df['dayofyear_sin'] = np.sin(2 * np.pi * df.index.dayofyear / 365.25)\n",
    "df['dayofyear_cos'] = np.cos(2 * np.pi * df.index.dayofyear / 365.25)\n",
    "df['hour_sin'] = np.sin(2 * np.pi * df.index.hour / 24)\n",
    "df['hour_cos'] = np.cos(2 * np.pi * df.index.hour / 24)\n",
    "\n",
    "# Key features (including target for autoregression)\n",
    "target_col = 'SMS.I-1:-4 (pct) (loam)'\n",
    "key_features = [\n",
    "    'Precip (in)',\n",
    "    'TOBS.I-1 (degC)',\n",
    "    'TAVG.H-1 (degC)',\n",
    "    'RHUM.I-1 (pct)',\n",
    "    'SMS.I-1:-2 (pct) (loam)',\n",
    "    target_col,\n",
    "    'month_sin',\n",
    "    'month_cos',\n",
    "    'dayofyear_sin',\n",
    "    'dayofyear_cos',\n",
    "    'hour_sin',\n",
    "    'hour_cos',\n",
    "]\n",
    "feature_cols = [col for col in df.columns if col in key_features]\n",
    "\n",
    "# Rolling features\n",
    "df['Precip_24h_sum'] = df['Precip (in)'].rolling(24).sum().fillna(0)\n",
    "df['TOBS_6h_mean'] = df['TOBS.I-1 (degC)'].rolling(6).mean().fillna(0)\n",
    "feature_cols += ['Precip_24h_sum', 'TOBS_6h_mean']\n",
    "\n",
    "# Normalize features\n",
    "scaler = MinMaxScaler()\n",
    "df[feature_cols] = scaler.fit_transform(df[feature_cols])\n",
    "\n",
    "# Save the modified df\n",
    "df.to_pickle('processed_df.pkl')\n",
    "print(\"Modified DataFrame saved as 'processed_df.pkl'\")\n",
    "\n",
    "# Split into train and test\n",
    "train_df = df[df.index < split_date]\n",
    "test_df = df[df.index >= split_date]\n",
    "\n",
    "# Function to create sequences with progress tracking\n",
    "def create_sequences(data, seq_length, target_col):\n",
    "    xs, ys = [], []\n",
    "    total_iterations = len(data) - seq_length\n",
    "    for i in tqdm(range(len(data) - seq_length), total=total_iterations, desc=\"Creating sequences\"):\n",
    "        x = data[feature_cols].iloc[i:i + seq_length].values\n",
    "        y = data[target_col].iloc[i + seq_length:i + seq_length + 168].values\n",
    "        if len(y) == 168:\n",
    "            xs.append(x)\n",
    "            ys.append(y)\n",
    "    return np.array(xs), np.array(ys)\n",
    "\n",
    "# Create train/test sequences\n",
    "print(\"Creating train sequences...\")\n",
    "X_train, y_train = create_sequences(train_df, seq_length, target_col)\n",
    "print(\"Creating test sequences...\")\n",
    "X_test, y_test = create_sequences(test_df, seq_length, target_col)\n",
    "\n",
    "# Convert to PyTorch tensors\n",
    "X_train = torch.tensor(X_train).float()\n",
    "y_train = torch.tensor(y_train).float()\n",
    "X_test = torch.tensor(X_test).float()\n",
    "y_test = torch.tensor(y_test).float()\n",
    "\n",
    "# (Rest of the training code, including model definition, training, and saving model/scaler)\n",
    "# Save scaler\n",
    "joblib.dump(scaler, 'scaler.pkl')\n",
    "# Save model (already included in training loop)"
   ]
  },
  {
   "cell_type": "code",
   "execution_count": 3,
   "id": "eb505410-00a1-4204-b6cc-c52cfc07915f",
   "metadata": {},
   "outputs": [
    {
     "name": "stdout",
     "output_type": "stream",
     "text": [
      "Using device: cuda\n"
     ]
    },
    {
     "name": "stderr",
     "output_type": "stream",
     "text": [
      "Training:   5%|███▋                                                                     | 1/20 [00:12<04:06, 12.97s/it]"
     ]
    },
    {
     "name": "stdout",
     "output_type": "stream",
     "text": [
      "Epoch 1/20, Train Loss: 0.0051, Val Loss: 0.0076\n",
      "Model saved with validation loss: 0.0076\n"
     ]
    },
    {
     "name": "stderr",
     "output_type": "stream",
     "text": [
      "Training:  10%|███████▎                                                                 | 2/20 [00:25<03:47, 12.63s/it]"
     ]
    },
    {
     "name": "stdout",
     "output_type": "stream",
     "text": [
      "Epoch 2/20, Train Loss: 0.0036, Val Loss: 0.0073\n",
      "Model saved with validation loss: 0.0073\n"
     ]
    },
    {
     "name": "stderr",
     "output_type": "stream",
     "text": [
      "Training:  15%|██████████▉                                                              | 3/20 [00:37<03:32, 12.52s/it]"
     ]
    },
    {
     "name": "stdout",
     "output_type": "stream",
     "text": [
      "Epoch 3/20, Train Loss: 0.0035, Val Loss: 0.0078\n"
     ]
    },
    {
     "name": "stderr",
     "output_type": "stream",
     "text": [
      "Training:  20%|██████████████▌                                                          | 4/20 [00:50<03:19, 12.45s/it]"
     ]
    },
    {
     "name": "stdout",
     "output_type": "stream",
     "text": [
      "Epoch 4/20, Train Loss: 0.0034, Val Loss: 0.0096\n"
     ]
    },
    {
     "name": "stderr",
     "output_type": "stream",
     "text": [
      "Training:  25%|██████████████████▎                                                      | 5/20 [01:02<03:06, 12.41s/it]"
     ]
    },
    {
     "name": "stdout",
     "output_type": "stream",
     "text": [
      "Epoch 5/20, Train Loss: 0.0033, Val Loss: 0.0062\n",
      "Model saved with validation loss: 0.0062\n"
     ]
    },
    {
     "name": "stderr",
     "output_type": "stream",
     "text": [
      "Training:  30%|█████████████████████▉                                                   | 6/20 [01:14<02:53, 12.40s/it]"
     ]
    },
    {
     "name": "stdout",
     "output_type": "stream",
     "text": [
      "Epoch 6/20, Train Loss: 0.0033, Val Loss: 0.0090\n"
     ]
    },
    {
     "name": "stderr",
     "output_type": "stream",
     "text": [
      "Training:  35%|█████████████████████████▌                                               | 7/20 [01:27<02:41, 12.39s/it]"
     ]
    },
    {
     "name": "stdout",
     "output_type": "stream",
     "text": [
      "Epoch 7/20, Train Loss: 0.0032, Val Loss: 0.0069\n"
     ]
    },
    {
     "name": "stderr",
     "output_type": "stream",
     "text": [
      "Training:  40%|█████████████████████████████▏                                           | 8/20 [01:39<02:28, 12.39s/it]"
     ]
    },
    {
     "name": "stdout",
     "output_type": "stream",
     "text": [
      "Epoch 8/20, Train Loss: 0.0031, Val Loss: 0.0063\n"
     ]
    },
    {
     "name": "stderr",
     "output_type": "stream",
     "text": [
      "Training:  45%|████████████████████████████████▊                                        | 9/20 [01:51<02:16, 12.39s/it]"
     ]
    },
    {
     "name": "stdout",
     "output_type": "stream",
     "text": [
      "Epoch 9/20, Train Loss: 0.0031, Val Loss: 0.0076\n"
     ]
    },
    {
     "name": "stderr",
     "output_type": "stream",
     "text": [
      "Training:  45%|████████████████████████████████▊                                        | 9/20 [02:04<02:32, 13.83s/it]"
     ]
    },
    {
     "name": "stdout",
     "output_type": "stream",
     "text": [
      "Epoch 10/20, Train Loss: 0.0030, Val Loss: 0.0077\n",
      "Early stopping\n",
      "Training completed. Best model saved as 'lstm_model.pth' with loss: 0.0062\n"
     ]
    },
    {
     "name": "stderr",
     "output_type": "stream",
     "text": [
      "\n"
     ]
    }
   ],
   "source": [
    "import torch.nn as nn\n",
    "import torch.optim as optim\n",
    "from torch.utils.data import TensorDataset, DataLoader\n",
    "from tqdm import tqdm\n",
    "\n",
    "# Device configuration\n",
    "device = torch.device(\"cuda\" if torch.cuda.is_available() else \"cpu\")\n",
    "print(f\"Using device: {device}\")\n",
    "\n",
    "class LSTMModel(nn.Module):\n",
    "    def __init__(self, input_size, hidden_size, num_layers, output_size):\n",
    "        super(LSTMModel, self).__init__()\n",
    "        self.hidden_size = hidden_size\n",
    "        self.num_layers = num_layers\n",
    "        self.lstm = nn.LSTM(input_size, hidden_size, num_layers, batch_first=True)\n",
    "        self.fc = nn.Linear(hidden_size, output_size)\n",
    "    \n",
    "    def forward(self, x):\n",
    "        h0 = torch.zeros(self.num_layers, x.size(0), self.hidden_size).to(x.device)\n",
    "        c0 = torch.zeros(self.num_layers, x.size(0), self.hidden_size).to(x.device)\n",
    "        out, _ = self.lstm(x, (h0, c0))\n",
    "        out = self.fc(out[:, -1, :])  # Last time step to predict output sequence\n",
    "        return out\n",
    "\n",
    "# Hyperparameters\n",
    "input_size = len(feature_cols)  # ~12\n",
    "hidden_size = 64\n",
    "num_layers = 2\n",
    "output_size = 168  # Predict 168 hours\n",
    "epochs = 20  # Reduced for initial test\n",
    "batch_size = 128  # Increased to speed up\n",
    "learning_rate = 0.001\n",
    "\n",
    "# DataLoader\n",
    "train_dataset = TensorDataset(X_train, y_train)\n",
    "train_loader = DataLoader(train_dataset, batch_size=batch_size, shuffle=True)\n",
    "test_dataset = TensorDataset(X_test, y_test)\n",
    "test_loader = DataLoader(test_dataset, batch_size=batch_size, shuffle=False)\n",
    "\n",
    "# Model, loss, optimizer\n",
    "model = LSTMModel(input_size, hidden_size, num_layers, output_size).to(device)\n",
    "criterion = nn.MSELoss()\n",
    "optimizer = optim.Adam(model.parameters(), lr=learning_rate)\n",
    "\n",
    "# Training loop with early stopping and model saving\n",
    "best_loss = np.inf\n",
    "patience = 5\n",
    "counter = 0\n",
    "for epoch in tqdm(range(epochs), desc=\"Training\"):\n",
    "    model.train()\n",
    "    train_loss = 0\n",
    "    for batch_x, batch_y in train_loader:\n",
    "        batch_x, batch_y = batch_x.to(device), batch_y.to(device)\n",
    "        optimizer.zero_grad()\n",
    "        output = model(batch_x)\n",
    "        loss = criterion(output, batch_y)\n",
    "        loss.backward()\n",
    "        optimizer.step()\n",
    "        train_loss += loss.item()\n",
    "    train_loss /= len(train_loader)\n",
    "    \n",
    "    # Validation loss\n",
    "    model.eval()\n",
    "    val_loss = 0\n",
    "    with torch.no_grad():\n",
    "        for batch_x, batch_y in test_loader:\n",
    "            batch_x, batch_y = batch_x.to(device), batch_y.to(device)\n",
    "            output = model(batch_x)\n",
    "            val_loss += criterion(output, batch_y).item()\n",
    "    val_loss /= len(test_loader)\n",
    "    print(f'Epoch {epoch+1}/{epochs}, Train Loss: {train_loss:.4f}, Val Loss: {val_loss:.4f}')\n",
    "    \n",
    "    # Save the best model\n",
    "    if val_loss < best_loss:\n",
    "        best_loss = val_loss\n",
    "        counter = 0\n",
    "        torch.save(model.state_dict(), 'lstm_model.pth')  # Save model parameters\n",
    "        print(f\"Model saved with validation loss: {val_loss:.4f}\")\n",
    "    else:\n",
    "        counter += 1\n",
    "        if counter >= patience:\n",
    "            print(\"Early stopping\")\n",
    "            break\n",
    "\n",
    "print(f\"Training completed. Best model saved as 'lstm_model.pth' with loss: {best_loss:.4f}\")"
   ]
  },
  {
   "cell_type": "code",
   "execution_count": 14,
   "id": "84a5b923-d4ef-422d-a276-d23dc7db76a2",
   "metadata": {},
   "outputs": [],
   "source": [
    "from scipy.interpolate import CubicSpline\n",
    "import matplotlib.pyplot as plt\n",
    "import pandas as pd\n",
    "import numpy as np\n",
    "import torch\n",
    "\n",
    "def plot_prediction_at_time(input_time, df, model, target_col, scaler):\n",
    "    \"\"\"\n",
    "    Generate a prediction graph for a user-specified time using the trained RNN model.\n",
    "    \n",
    "    Parameters:\n",
    "    - input_time: pd.Timestamp or str (e.g., '2020-01-01 12:00') for the prediction start time\n",
    "    - df: DataFrame containing the time series data\n",
    "    - model: Trained LSTM model\n",
    "    - target_col: Target column name (e.g., 'SMS.I-1:-4 (pct) (loam)')\n",
    "    - scaler: The MinMaxScaler used for normalization (to inverse transform predictions)\n",
    "    \"\"\"\n",
    "    # Default internal variables (adjust based on your training setup)\n",
    "    target_col = 'SMS.I-1:-4 (pct) (loam)'  # From feature engineering\n",
    "    feature_cols = [  # From feature engineering\n",
    "        'Precip (in)',\n",
    "        'TOBS.I-1 (degC)',\n",
    "        'TAVG.H-1 (degC)',\n",
    "        'RHUM.I-1 (pct)',\n",
    "        'SMS.I-1:-2 (pct) (loam)',\n",
    "        target_col,\n",
    "        'month_sin',\n",
    "        'month_cos',\n",
    "        'dayofyear_sin',\n",
    "        'dayofyear_cos',\n",
    "        'hour_sin',\n",
    "        'hour_cos',\n",
    "        'Precip_24h_sum',\n",
    "        'TOBS_6h_mean'\n",
    "    ]\n",
    "\n",
    "    # Convert input_time to Timestamp if it's a string\n",
    "    if isinstance(input_time, str):\n",
    "        input_time = pd.Timestamp(input_time)\n",
    "    \n",
    "    # Find the closest timestamp in df\n",
    "    closest_time = df.index[df.index.get_indexer([input_time], method='nearest')[0]]\n",
    "    print(f\"Closest available time to {input_time}: {closest_time}\")\n",
    "    \n",
    "    # Prepare input sequence (last 168 hours before closest_time)\n",
    "    seq_length = 168\n",
    "    seq_start = closest_time - pd.Timedelta(hours=seq_length - 1)  # 168 hours back\n",
    "    input_seq = df[feature_cols].loc[seq_start:closest_time]\n",
    "    if len(input_seq) < seq_length:\n",
    "        print(f\"Warning: Insufficient data before {closest_time}. Padding with last available data.\")\n",
    "        input_seq = pd.concat([df[feature_cols].iloc[-seq_length:], input_seq]).tail(seq_length)\n",
    "    input_X = torch.tensor(input_seq.values).float().unsqueeze(0).to(next(model.parameters()).device)  # Move to model's device\n",
    "    \n",
    "    # Predict for the next 7 days (168 hours)\n",
    "    model.eval()\n",
    "    with torch.no_grad():\n",
    "        preds = model(input_X).squeeze().cpu().numpy()  # Move to CPU before converting to NumPy\n",
    "    \n",
    "    # Inverse transform predictions using the target column's scaling\n",
    "    target_idx = feature_cols.index(target_col)  # Get index of target_col (should be 5)\n",
    "    preds_transformed = (preds * scaler.scale_[target_idx]) + scaler.min_[target_idx]  # Manual inverse transform\n",
    "    \n",
    "    # Get the last input soil moisture value\n",
    "    last_input_value = input_seq[target_col].iloc[-1]  # Last value in the input sequence\n",
    "    \n",
    "    # Interpolate to hourly (optional, since preds are already hourly)\n",
    "    pred_hours = np.arange(0, 168, 1)  # 0 to 167 hours, starting with the last input\n",
    "    pred_hours_shifted = np.arange(1, 169, 1)  # 1 to 168 hours for prediction plot\n",
    "    \n",
    "    # Get historical data (past 7 days before closest_time)\n",
    "    past_hours = 168\n",
    "    historical_df = df[[target_col, 'Precip (in)', 'TOBS.I-1 (degC)']].loc[\n",
    "        closest_time - pd.Timedelta(hours=past_hours):closest_time - pd.Timedelta(hours=1)\n",
    "    ]\n",
    "    historical_hours = np.arange(-past_hours, 0, 1)  # -168 to -1\n",
    "    \n",
    "    # Get actual data from closest_time onward (up to available data)\n",
    "    actual_df = df[[target_col]].loc[closest_time:]\n",
    "    if not actual_df.empty:\n",
    "        time_diffs = (actual_df.index - closest_time).total_seconds() / 3600  # Convert seconds to hours\n",
    "        actual_hours = time_diffs.values\n",
    "    else:\n",
    "        actual_hours = np.array([])\n",
    "        print(\"Warning: No actual data available for plotting.\")\n",
    "    \n",
    "    # Create dual-axis plot\n",
    "    fig, ax1 = plt.subplots(figsize=(12, 6))\n",
    "    \n",
    "    # Left y-axis: Soil moisture (historical, predicted, actual, and last input)\n",
    "    ax1.plot(historical_hours, historical_df[target_col], label='Historical SMS (-4cm)', color='blue')\n",
    "    if not actual_df.empty:\n",
    "        ax1.plot(actual_hours, actual_df[target_col], label='Actual SMS (-4cm)', color='green')\n",
    "        print(f\"Actual SMS range: {actual_hours[0]} to {actual_hours[-1]} hours\")\n",
    "    ax1.plot(0, last_input_value, 'ro', label='Last Input SMS (-4cm)', color='black')  # Plot last input at hour 0\n",
    "    ax1.plot(pred_hours_shifted, preds_transformed, label='Predicted SMS (-4cm)', color='blue', linestyle='--')\n",
    "    ax1.scatter(pred_hours_shifted, preds_transformed, color='red', label='Model Outputs')\n",
    "    ax1.set_xlabel(f'Hours Relative to {closest_time} (0 = Prediction Start)')\n",
    "    ax1.set_ylabel('Soil Moisture (%)', color='blue')\n",
    "    ax1.set_xlim(-past_hours, 168)  # Limit x-axis to -168 to +168 hours\n",
    "    ax1.tick_params(axis='y', labelcolor='blue')\n",
    "    ax1.legend(loc='upper left')\n",
    "    \n",
    "    # Right y-axis: Precipitation and Temperature (historical)\n",
    "    ax2 = ax1.twinx()\n",
    "    ax2.plot(historical_hours, historical_df['Precip (in)'], label='Historical Precip (in)', color='green')\n",
    "    ax2.plot(historical_hours, historical_df['TOBS.I-1 (degC)'], label='Historical Temp (°C)', color='orange')\n",
    "    ax2.set_ylabel('Precip (in) / Temp (°C)', color='green')\n",
    "    ax2.tick_params(axis='y', labelcolor='green')\n",
    "    ax2.legend(loc='upper right')\n",
    "    \n",
    "    # Title and grid\n",
    "    plt.title(f'Soil Moisture Prediction from {closest_time} at 4cm')\n",
    "    fig.tight_layout()\n",
    "    plt.grid(True)\n",
    "    plt.show()\n",
    "    \n",
    "    # Print comparison\n",
    "    print(f\"Last Input Soil Moisture: {last_input_value:.4f}\")\n",
    "    print(f\"First Predicted Soil Moisture: {preds_transformed[0]:.4f}\")\n",
    "    print(f\"Difference: {abs(last_input_value - preds_transformed[0]):.4f}\")\n",
    "\n",
    "# Example usage\n",
    "plot_prediction_at_time('2025-09-18 06:00', df, loaded_model, target_col, loaded_scaler)"
   ]
  },
  {
   "cell_type": "code",
   "execution_count": 22,
   "id": "226554cc-4961-4156-8fbe-d49d1a1b5260",
   "metadata": {},
   "outputs": [
    {
     "name": "stdout",
     "output_type": "stream",
     "text": [
      "Using device: cuda\n",
      "Loaded processed DataFrame from 'processed_df.pkl'\n",
      "Model and scaler loaded successfully.\n",
      "Closest available time to 2021-02-12 06:00:00: 2021-02-12 06:00:00\n",
      "Actual SMS range: 0.0 to 40293.0 hours\n"
     ]
    },
    {
     "data": {
      "image/png": "[encoded data removed]",
      "text/plain": [
       "<Figure size 1200x600 with 2 Axes>"
      ]
     },
     "metadata": {},
     "output_type": "display_data"
    }
   ],
   "source": [
    "import torch\n",
    "import torch.nn as nn\n",
    "import pandas as pd\n",
    "import numpy as np\n",
    "import joblib\n",
    "\n",
    "# Device configuration\n",
    "device = torch.device(\"cuda\" if torch.cuda.is_available() else \"cpu\")\n",
    "print(f\"Using device: {device}\")\n",
    "\n",
    "# Define the LSTMModel class\n",
    "class LSTMModel(nn.Module):\n",
    "    def __init__(self, input_size, hidden_size, num_layers, output_size):\n",
    "        super(LSTMModel, self).__init__()\n",
    "        self.hidden_size = hidden_size\n",
    "        self.num_layers = num_layers\n",
    "        self.lstm = nn.LSTM(input_size, hidden_size, num_layers, batch_first=True)\n",
    "        self.fc = nn.Linear(hidden_size, output_size)\n",
    "    \n",
    "    def forward(self, x):\n",
    "        h0 = torch.zeros(self.num_layers, x.size(0), self.hidden_size).to(x.device)\n",
    "        c0 = torch.zeros(self.num_layers, x.size(0), self.hidden_size).to(x.device)\n",
    "        out, _ = self.lstm(x, (h0, c0))\n",
    "        out = self.fc(out[:, -1, :])\n",
    "        return out\n",
    "\n",
    "# Load the processed df\n",
    "df = pd.read_pickle('processed_df.pkl')\n",
    "print(\"Loaded processed DataFrame from 'processed_df.pkl'\")\n",
    "\n",
    "# Hyperparameters (must match training)\n",
    "input_size = len([col for col in df.columns if col in [\n",
    "    'Precip (in)', 'TOBS.I-1 (degC)', 'TAVG.H-1 (degC)', 'RHUM.I-1 (pct)',\n",
    "    'SMS.I-1:-2 (pct) (loam)', 'SMS.I-1:-4 (pct) (loam)', 'month_sin',\n",
    "    'month_cos', 'dayofyear_sin', 'dayofyear_cos', 'hour_sin', 'hour_cos',\n",
    "    'Precip_24h_sum', 'TOBS_6h_mean'\n",
    "]])  # Dynamically determine input_size\n",
    "hidden_size = 64\n",
    "num_layers = 2\n",
    "output_size = 168\n",
    "\n",
    "# Load the model\n",
    "loaded_model = LSTMModel(input_size, hidden_size, num_layers, output_size).to(device)\n",
    "loaded_model.load_state_dict(torch.load('lstm_model.pth'))\n",
    "loaded_model.eval()\n",
    "\n",
    "# Load the scaler\n",
    "loaded_scaler = joblib.load('scaler.pkl')\n",
    "\n",
    "print(\"Model and scaler loaded successfully.\")\n",
    "\n",
    "\n",
    "# Define feature_cols and target_col (consistent with training)\n",
    "feature_cols = [col for col in df.columns if col in [\n",
    "    'Precip (in)', 'TOBS.I-1 (degC)', 'TAVG.H-1 (degC)', 'RHUM.I-1 (pct)',\n",
    "    'SMS.I-1:-2 (pct) (loam)', 'SMS.I-1:-4 (pct) (loam)', 'month_sin',\n",
    "    'month_cos', 'dayofyear_sin', 'dayofyear_cos', 'hour_sin', 'hour_cos',\n",
    "    'Precip_24h_sum', 'TOBS_6h_mean'\n",
    "]]\n",
    "target_col = 'SMS.I-1:-4 (pct) (loam)'\n",
    "\n",
    "# Example usage with plot_prediction_at_time\n",
    "plot_prediction_at_time('2021-02-12 06:00', df, loaded_model, target_col, scaler)"
   ]
  },
  {
   "cell_type": "code",
   "execution_count": null,
   "id": "1c0b95df-82ed-430e-8d2f-2705d4638acc",
   "metadata": {},
   "outputs": [],
   "source": []
  }
 ],
 "metadata": {
  "kernelspec": {
   "display_name": "Python 3 (ipykernel)",
   "language": "python",
   "name": "python3"
  },
  "language_info": {
   "codemirror_mode": {
    "name": "ipython",
    "version": 3
   },
   "file_extension": ".py",
   "mimetype": "text/x-python",
   "name": "python",
   "nbconvert_exporter": "python",
   "pygments_lexer": "ipython3",
   "version": "3.12.4"
  }
 },
 "nbformat": 4,
 "nbformat_minor": 5
}
